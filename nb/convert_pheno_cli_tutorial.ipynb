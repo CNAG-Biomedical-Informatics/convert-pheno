{
  "cells": [
    {
      "cell_type": "markdown",
      "metadata": {
        "id": "6Rvyqyimvs4w"
      },
      "source": [
        "## Convert-Pheno\n",
        "<em>A software toolkit for the interconversion of standard data models for phenotypic data.</em>\n"
      ]
    },
    {
      "cell_type": "markdown",
      "metadata": {
        "id": "D0x1O53dwEbA"
      },
      "source": [
        "# Installation"
      ]
    },
    {
      "cell_type": "markdown",
      "metadata": {
        "id": "GkhM8hJ2kr20"
      },
      "source": [
        "*Note:* We'll perform an installation directly from the [GitHub](https://github.com/mrueda/convert-pheno) source.\n",
        "\n",
        "First we will download the repository by using `git clone`"
      ]
    },
    {
      "cell_type": "code",
      "execution_count": 1,
      "metadata": {
        "colab": {
          "base_uri": "https://localhost:8080/"
        },
        "id": "wHznD0dTfqcv",
        "outputId": "c4e33e80-224b-468e-ae72-5ec1d79efa62"
      },
      "outputs": [
        {
          "output_type": "stream",
          "name": "stdout",
          "text": [
            "Cloning into 'convert-pheno'...\n",
            "remote: Enumerating objects: 3978, done.\u001b[K\n",
            "remote: Counting objects: 100% (206/206), done.\u001b[K\n",
            "remote: Compressing objects: 100% (112/112), done.\u001b[K\n",
            "remote: Total 3978 (delta 84), reused 153 (delta 61), pack-reused 3772\u001b[K\n",
            "Receiving objects: 100% (3978/3978), 67.30 MiB | 16.30 MiB/s, done.\n",
            "Resolving deltas: 100% (2229/2229), done.\n",
            "Updating files: 100% (128/128), done.\n"
          ]
        }
      ],
      "source": [
        "!git clone https://github.com/CNAG-Biomedical-Informatics/convert-pheno.git\n"
      ]
    },
    {
      "cell_type": "markdown",
      "metadata": {
        "id": "rEFFkPxvk3TN"
      },
      "source": [
        "Now we enter into `convert-pheno` directory:"
      ]
    },
    {
      "cell_type": "code",
      "execution_count": 2,
      "metadata": {
        "colab": {
          "base_uri": "https://localhost:8080/"
        },
        "id": "ok2RUCVAg5BE",
        "outputId": "e00dde9d-d16c-4f3d-8078-3ff672a2c762"
      },
      "outputs": [
        {
          "output_type": "stream",
          "name": "stdout",
          "text": [
            "/content/convert-pheno\n"
          ]
        }
      ],
      "source": [
        "%cd convert-pheno/"
      ]
    },
    {
      "cell_type": "markdown",
      "metadata": {
        "id": "enWaaP8dlGHo"
      },
      "source": [
        "And we perform the installation of the needed dependencies.\n",
        "Note that this task will take **a few minutes** to complete..."
      ]
    },
    {
      "cell_type": "code",
      "execution_count": 3,
      "metadata": {
        "colab": {
          "base_uri": "https://localhost:8080/"
        },
        "id": "8tbJ0f5-hJAB",
        "outputId": "bc7d9933-cda1-4ef6-d962-fdea18e0a1d0"
      },
      "outputs": [
        {
          "output_type": "stream",
          "name": "stdout",
          "text": [
            "sudo apt-get install cpanminus libbz2-dev zlib1g-dev libperl-dev libssl-dev\n",
            "Reading package lists... Done\n",
            "Building dependency tree... Done\n",
            "Reading state information... Done\n",
            "libbz2-dev is already the newest version (1.0.8-5build1).\n",
            "cpanminus is already the newest version (1.7045-1).\n",
            "libperl-dev is already the newest version (5.34.0-3ubuntu1.2).\n",
            "libssl-dev is already the newest version (3.0.2-0ubuntu1.10).\n",
            "zlib1g-dev is already the newest version (1:1.2.11.dfsg-2ubuntu9.2).\n",
            "0 upgraded, 0 newly installed, 0 to remove and 16 not upgraded.\n",
            "cpanm --notest --installdeps .\t\n",
            "--> Working on .\n",
            "Configuring /content/convert-pheno ... OK\n",
            "<== Installed dependencies for .. Finishing.\n"
          ]
        }
      ],
      "source": [
        "!make -f makefile.install install"
      ]
    },
    {
      "cell_type": "markdown",
      "metadata": {
        "id": "NQrKcfu5louM"
      },
      "source": [
        "Ok, finally let's run some tests to make sure all works as it should:"
      ]
    },
    {
      "cell_type": "code",
      "execution_count": 4,
      "metadata": {
        "colab": {
          "base_uri": "https://localhost:8080/"
        },
        "id": "xMKl_Vhaiom3",
        "outputId": "3044cc2a-a017-4302-b155-c1b2651f0f08"
      },
      "outputs": [
        {
          "output_type": "stream",
          "name": "stdout",
          "text": [
            "prove -l\n",
            "t/args.t ..... ok\n",
            "t/cli.t ...... ok\n",
            "t/mapping.t .. ok\n",
            "t/module.t ... ok\n",
            "t/ohdsi.t .... ok\n",
            "t/stream.t ... ok\n",
            "\u001b[32mAll tests successful.\n",
            "\u001b[0mFiles=6, Tests=27, 21 wallclock secs ( 0.05 usr  0.01 sys + 18.30 cusr  0.89 csys = 19.25 CPU)\n",
            "Result: PASS\n"
          ]
        }
      ],
      "source": [
        "!make -f makefile.install test"
      ]
    },
    {
      "cell_type": "markdown",
      "metadata": {
        "id": "_9D0t8lpl-Gh"
      },
      "source": [
        "The CLI is located at `bin/convert-pheno`. Let's execute it to visualize the help:"
      ]
    },
    {
      "cell_type": "code",
      "execution_count": 16,
      "metadata": {
        "colab": {
          "base_uri": "https://localhost:8080/"
        },
        "id": "rx_teRJ0l5Iq",
        "outputId": "53972d16-b3f5-4f52-bb6f-e5c3ba565f90"
      },
      "outputs": [
        {
          "output_type": "stream",
          "name": "stdout",
          "text": [
            "Usage:\n",
            "    convert-pheno [-i input-type] <infile> [-o output-type] <outfile>\n",
            "    [-options]\n",
            "\n",
            "         Arguments:                       \n",
            "           (input-type): \n",
            "                 -ibff                    Beacon v2 Models (\"individuals\" JSON|YAML) file\n",
            "                 -iomop                   OMOP-CDM CSV files or PostgreSQL dump\n",
            "                 -ipxf                    Phenopacket v2 (JSON|YAML) file\n",
            "                 -iredcap (experimental)  REDCap (raw data) export CSV file\n",
            "                 -icdisc  (experimental)  CDISC-ODM v1 XML file\n",
            "\n",
            "                 (Wish-list)\n",
            "                 #-openehr                openEHR\n",
            "                 #-ifhir                  HL7/FHIR\n",
            "\n",
            "           (output-type):\n",
            "                 -obff                    Beacon v2 Models (\"invididuals\" JSON|YAML) file\n",
            "                 -opxf                    Phenopacket v2 (JSON|YAML) file\n",
            "\n",
            "                 (Wish-list)\n",
            "                 #-oomop                  OMOP-CDM PostgreSQL dump\n",
            "\n",
            "         Options:\n",
            "           -exposures-file                CSV file with a list of 'concept_id' considered to be exposures (with -iomop)\n",
            "           -mapping-file                  Fields mapping YAML (or JSON) file\n",
            "           -max-lines-sql                 Maximum number of lines read from SQL dump [500]\n",
            "           -min-text-similarity-score     Minimum score for cosine similarity (or Sorensen-Dice coefficient) [0.8] (to be used with --search mixed)\n",
            "           -ohdsi-db                      Use Athena-OHDSI database (~2.2GB) with -iomop\n",
            "           -omop-tables                   (Only valid with -iomop) OMOP-CDM tables to be processed. Tables <CONCEPT> and <PERSON> are always included.\n",
            "           -out-dir                       Output (existing) directory\n",
            "           -O                             Overwrite output file\n",
            "           -path-to-ohdsi-db              Directory for the file <ohdsi.db>\n",
            "           -phl|print-hidden-labels       Print original values (before DB mapping) of text fields <_labels>\n",
            "           -rcd|redcap-dictionary         REDCap data dictionary CSV file\n",
            "           -schema-file                   Alternative JSON Schema for mapping file\n",
            "           -search                        Type of search [>exact|mixed]\n",
            "           -svs|self-validate-schema      Perform a self-validation of the JSON schema that defines mapping (requires IO::Socket::SSL)\n",
            "           -sep|separator                 Delimiter character for CSV files [;] e.g., --sep $'\\t'\n",
            "           -stream                        Enable incremental processing with -iomop and -obff [>no-stream|stream]\n",
            "           -sql2csv                       Print SQL TABLES (only valid with -iomop). Mutually exclusive with --stream\n",
            "           -test                          Does not print time-changing-events (useful for file-based cmp)\n",
            "           -text-similarity-method        The method used to compare values to DB [>cosine|dice]\n",
            "           -u|username                    Set the username\n",
            "\n",
            "         Generic Options:\n",
            "           -debug                         Print debugging level (from 1 to 5, being 5 max)\n",
            "           -help                          Brief help message\n",
            "           -log                           Save log file (JSON). If no argument is given then the log is named [convert-pheno-log.json]\n",
            "           -man                           Full documentation\n",
            "           -no-color                      Don't print colors to STDOUT [>color|no-color]\n",
            "           -v|verbose                     Verbosity on\n",
            "           -V|version                     Print Version\n",
            "\n"
          ]
        }
      ],
      "source": [
        "!bin/convert-pheno -h"
      ]
    },
    {
      "cell_type": "markdown",
      "metadata": {
        "id": "8m1AJXz6wN7u"
      },
      "source": [
        "# Command-line examples"
      ]
    },
    {
      "cell_type": "markdown",
      "metadata": {
        "id": "PJwWpADRK8nN"
      },
      "source": [
        "Ok, we're going to run a few jobs. We'll be using the included test data."
      ]
    },
    {
      "cell_type": "markdown",
      "metadata": {
        "id": "qXXKi5C0wUOu"
      },
      "source": [
        "### BFF to PXF"
      ]
    },
    {
      "cell_type": "markdown",
      "metadata": {
        "id": "9X4888numV8v"
      },
      "source": [
        "Our input file is going to be a Beacon v2 Models `individuals` file (BFF) in `json` format.\n",
        "\n",
        "Let's take a look to its content with [JSON Crack](https://jsoncrack.com/editor?json=https://raw.githubusercontent.com/mrueda/convert-pheno/main/t/bff2pxf/in/individuals.json)."
      ]
    },
    {
      "cell_type": "code",
      "execution_count": null,
      "metadata": {
        "cellView": "form",
        "colab": {
          "base_uri": "https://localhost:8080/",
          "height": 525
        },
        "id": "KStkbwQws5q9",
        "outputId": "2e26a065-255b-45de-ef85-23374dadccd4"
      },
      "outputs": [
        {
          "data": {
            "text/html": [
              "<Iframe src=\"https://jsoncrack.com/editor?json=https://raw.githubusercontent.com/mrueda/convert-pheno/main/t/bff2pxf/in/individuals.json\", width='1600', height='500'>\n"
            ],
            "text/plain": [
              "<IPython.core.display.HTML object>"
            ]
          },
          "metadata": {},
          "output_type": "display_data"
        }
      ],
      "source": [
        "#@title\n",
        "%%html\n",
        "<Iframe src=\"https://jsoncrack.com/editor?json=https://raw.githubusercontent.com/mrueda/convert-pheno/main/t/bff2pxf/in/individuals.json\", width='1600', height='500'>"
      ]
    },
    {
      "cell_type": "markdown",
      "metadata": {
        "id": "sZI9gOcA9Huh"
      },
      "source": [
        "Nice!\n",
        "\n",
        "The first job is going to be converting that file to Phenopackets v2 (PXF) in `json` format.\n",
        "\n",
        "From now on. we'll be storing the files in the directory `/content`."
      ]
    },
    {
      "cell_type": "code",
      "execution_count": 17,
      "metadata": {
        "id": "x-qCNt8UkA_Z"
      },
      "outputs": [],
      "source": [
        "!bin/convert-pheno -ibff t/bff2pxf/in/individuals.json -opxf pxf.json -out-dir /content"
      ]
    },
    {
      "cell_type": "markdown",
      "metadata": {
        "id": "Seji62YPoBAM"
      },
      "source": [
        "Uhmm...no output on the screen, what happened?\n",
        "\n",
        "Well, this is actually a sign that the program worked fine. No news is good news.\n",
        "\n",
        "A new file was created at `/content/pxf.json`.\n",
        "\n",
        "*Note:* You can access the directory `/content` by clicking in the folder icon on the left side navigation menu.\n",
        "\n",
        "If you want to re-create a file and the script says the file exists you can use the option `-O`.\n",
        "\n",
        "Let's use the Linux command `head` see the first 10 lines of the file."
      ]
    },
    {
      "cell_type": "code",
      "execution_count": 19,
      "metadata": {
        "colab": {
          "base_uri": "https://localhost:8080/"
        },
        "id": "BBLfU9jAokm7",
        "outputId": "f4384374-27bf-4196-d05a-db2801e82fdf"
      },
      "outputs": [
        {
          "output_type": "stream",
          "name": "stdout",
          "text": [
            "[\n",
            "   {\n",
            "      \"diseases\" : [],\n",
            "      \"id\" : \"phenopacket_id.GPkLruXtK\",\n",
            "      \"measurements\" : [\n",
            "         {\n",
            "            \"assay\" : {\n",
            "               \"id\" : \"LOINC:35925-4\",\n",
            "               \"label\" : \"BMI\"\n",
            "            },\n"
          ]
        }
      ],
      "source": [
        "!head /content/pxf.json"
      ]
    },
    {
      "cell_type": "markdown",
      "metadata": {
        "id": "cRCoqmLTo1g3"
      },
      "source": [
        "We will install the awesome utility [jq](https://stedolan.github.io/jq) to extract some information."
      ]
    },
    {
      "cell_type": "code",
      "execution_count": 20,
      "metadata": {
        "colab": {
          "base_uri": "https://localhost:8080/"
        },
        "id": "N0jipgY6o55d",
        "outputId": "befec2a3-03d3-4038-fcf2-60b51f1e5962"
      },
      "outputs": [
        {
          "output_type": "stream",
          "name": "stdout",
          "text": [
            "Reading package lists... Done\n",
            "Building dependency tree... Done\n",
            "Reading state information... Done\n",
            "The following additional packages will be installed:\n",
            "  libjq1 libonig5\n",
            "The following NEW packages will be installed:\n",
            "  jq libjq1 libonig5\n",
            "0 upgraded, 3 newly installed, 0 to remove and 16 not upgraded.\n",
            "Need to get 357 kB of archives.\n",
            "After this operation, 1,087 kB of additional disk space will be used.\n",
            "Get:1 http://archive.ubuntu.com/ubuntu jammy/main amd64 libonig5 amd64 6.9.7.1-2build1 [172 kB]\n",
            "Get:2 http://archive.ubuntu.com/ubuntu jammy/main amd64 libjq1 amd64 1.6-2.1ubuntu3 [133 kB]\n",
            "Get:3 http://archive.ubuntu.com/ubuntu jammy/main amd64 jq amd64 1.6-2.1ubuntu3 [52.5 kB]\n",
            "Fetched 357 kB in 1s (442 kB/s)\n",
            "Selecting previously unselected package libonig5:amd64.\n",
            "(Reading database ... 121979 files and directories currently installed.)\n",
            "Preparing to unpack .../libonig5_6.9.7.1-2build1_amd64.deb ...\n",
            "Unpacking libonig5:amd64 (6.9.7.1-2build1) ...\n",
            "Selecting previously unselected package libjq1:amd64.\n",
            "Preparing to unpack .../libjq1_1.6-2.1ubuntu3_amd64.deb ...\n",
            "Unpacking libjq1:amd64 (1.6-2.1ubuntu3) ...\n",
            "Selecting previously unselected package jq.\n",
            "Preparing to unpack .../jq_1.6-2.1ubuntu3_amd64.deb ...\n",
            "Unpacking jq (1.6-2.1ubuntu3) ...\n",
            "Setting up libonig5:amd64 (6.9.7.1-2build1) ...\n",
            "Setting up libjq1:amd64 (1.6-2.1ubuntu3) ...\n",
            "Setting up jq (1.6-2.1ubuntu3) ...\n",
            "Processing triggers for man-db (2.10.2-1) ...\n",
            "Processing triggers for libc-bin (2.35-0ubuntu3.1) ...\n",
            "/sbin/ldconfig.real: /usr/local/lib/libtbbmalloc_proxy.so.2 is not a symbolic link\n",
            "\n",
            "/sbin/ldconfig.real: /usr/local/lib/libtbbbind.so.3 is not a symbolic link\n",
            "\n",
            "/sbin/ldconfig.real: /usr/local/lib/libtbbmalloc.so.2 is not a symbolic link\n",
            "\n",
            "/sbin/ldconfig.real: /usr/local/lib/libtbb.so.12 is not a symbolic link\n",
            "\n",
            "/sbin/ldconfig.real: /usr/local/lib/libtbbbind_2_5.so.3 is not a symbolic link\n",
            "\n",
            "/sbin/ldconfig.real: /usr/local/lib/libtbbbind_2_0.so.3 is not a symbolic link\n",
            "\n"
          ]
        }
      ],
      "source": [
        "!apt install jq"
      ]
    },
    {
      "cell_type": "markdown",
      "metadata": {
        "id": "0_Cg-iV6pZLT"
      },
      "source": [
        "Ok, the `[` indicate that the file is a JSON array. Now we we'll check the property `id` for all array elements."
      ]
    },
    {
      "cell_type": "code",
      "execution_count": 21,
      "metadata": {
        "colab": {
          "base_uri": "https://localhost:8080/"
        },
        "id": "ACzglLmFpkHz",
        "outputId": "61ec6880-e78b-43f5-de7d-409d2a953a5f"
      },
      "outputs": [
        {
          "output_type": "stream",
          "name": "stdout",
          "text": [
            "\u001b[0;32m\"phenopacket_id.GPkLruXtK\"\u001b[0m\n",
            "\u001b[0;32m\"phenopacket_id.FO4oFq6yc\"\u001b[0m\n",
            "\u001b[0;32m\"phenopacket_id.hlOsfvE9z\"\u001b[0m\n",
            "\u001b[0;32m\"phenopacket_id.eQJEawJog\"\u001b[0m\n",
            "\u001b[0;32m\"phenopacket_id.eR66GvvrU\"\u001b[0m\n",
            "\u001b[0;32m\"phenopacket_id.MyWvvlcVA\"\u001b[0m\n",
            "\u001b[0;32m\"phenopacket_id.3JrlAsl8u\"\u001b[0m\n",
            "\u001b[0;32m\"phenopacket_id.rHECRecEX\"\u001b[0m\n",
            "\u001b[0;32m\"phenopacket_id.LQuuzc7z2\"\u001b[0m\n",
            "\u001b[0;32m\"phenopacket_id.Fvt8cWY4T\"\u001b[0m\n"
          ]
        }
      ],
      "source": [
        "!jq '.[].id' /content/pxf.json"
      ]
    },
    {
      "cell_type": "markdown",
      "metadata": {
        "id": "UGEDZGey52uI"
      },
      "source": [
        "Great!\n",
        "\n",
        "Ok, let's use `jq` again to fetch the `sex` property."
      ]
    },
    {
      "cell_type": "code",
      "execution_count": 22,
      "metadata": {
        "colab": {
          "base_uri": "https://localhost:8080/"
        },
        "id": "4dAe-_M4THvf",
        "outputId": "4d9e04e8-3bf4-4025-b252-f550912de5ba"
      },
      "outputs": [
        {
          "output_type": "stream",
          "name": "stdout",
          "text": [
            "\u001b[0;32m\"MALE\"\u001b[0m\n",
            "\u001b[0;32m\"FEMALE\"\u001b[0m\n",
            "\u001b[0;32m\"FEMALE\"\u001b[0m\n",
            "\u001b[0;32m\"FEMALE\"\u001b[0m\n",
            "\u001b[0;32m\"MALE\"\u001b[0m\n",
            "\u001b[0;32m\"FEMALE\"\u001b[0m\n",
            "\u001b[0;32m\"MALE\"\u001b[0m\n",
            "\u001b[0;32m\"MALE\"\u001b[0m\n",
            "\u001b[0;32m\"FEMALE\"\u001b[0m\n",
            "\u001b[0;32m\"MALE\"\u001b[0m\n"
          ]
        }
      ],
      "source": [
        "!jq '.[].subject.sex' /content/pxf.json"
      ]
    },
    {
      "cell_type": "markdown",
      "metadata": {
        "id": "SEN3U7J2UQVn"
      },
      "source": [
        "Let's complicate a bit the query. Let's find out the assay ontololgy for the 1st item inside `measurements`."
      ]
    },
    {
      "cell_type": "code",
      "execution_count": 23,
      "metadata": {
        "colab": {
          "base_uri": "https://localhost:8080/"
        },
        "id": "Bnn6A2WMUdbG",
        "outputId": "2a88be11-e66e-4a9d-a85a-8231ecf5108f"
      },
      "outputs": [
        {
          "output_type": "stream",
          "name": "stdout",
          "text": [
            "\u001b[0;32m\"LOINC:35925-4\"\u001b[0m\n",
            "\u001b[0;32m\"LOINC:35925-4\"\u001b[0m\n",
            "\u001b[0;32m\"LOINC:35925-4\"\u001b[0m\n",
            "\u001b[0;32m\"LOINC:35925-4\"\u001b[0m\n",
            "\u001b[0;32m\"LOINC:35925-4\"\u001b[0m\n",
            "\u001b[0;32m\"LOINC:35925-4\"\u001b[0m\n",
            "\u001b[0;32m\"LOINC:35925-4\"\u001b[0m\n",
            "\u001b[0;32m\"LOINC:35925-4\"\u001b[0m\n",
            "\u001b[0;32m\"LOINC:35925-4\"\u001b[0m\n",
            "\u001b[0;32m\"LOINC:35925-4\"\u001b[0m\n"
          ]
        }
      ],
      "source": [
        "!jq '.[].measurements[0].assay.id' /content/pxf.json"
      ]
    },
    {
      "cell_type": "markdown",
      "metadata": {
        "id": "ZrbjdNGES01B"
      },
      "source": [
        "If you want to learn more about `jq` I recommend you this [tutorial](https://sandbox.bio/tutorials?id=jq-intro&step=1) and this [playground](https://sandbox.bio/playgrounds?id=jq), both from [sandbox.io](https://sandbox.bio).\n",
        "\n",
        "Another useful way of visualizing `json` data is by converting them to tables.\n",
        "\n",
        "We'll do that with the help from Python's `pandas`.\n",
        "\n",
        "The table that you will see is interactive. You can filter, sort, etc. and even save the data as `csv, json` and Markdown."
      ]
    },
    {
      "cell_type": "code",
      "execution_count": 24,
      "metadata": {
        "colab": {
          "base_uri": "https://localhost:8080/",
          "height": 1220
        },
        "id": "lRaBtnKzYmxj",
        "outputId": "cbf89090-5dad-49fe-d870-b48b63b2fde4"
      },
      "outputs": [
        {
          "output_type": "execute_result",
          "data": {
            "text/plain": [
              "  diseases                        id  \\\n",
              "0       []  phenopacket_id.GPkLruXtK   \n",
              "1       []  phenopacket_id.FO4oFq6yc   \n",
              "2       []  phenopacket_id.hlOsfvE9z   \n",
              "3       []  phenopacket_id.eQJEawJog   \n",
              "4       []  phenopacket_id.eR66GvvrU   \n",
              "\n",
              "                                        measurements  \\\n",
              "0  [{'assay': {'id': 'LOINC:35925-4', 'label': 'B...   \n",
              "1  [{'assay': {'id': 'LOINC:35925-4', 'label': 'B...   \n",
              "2  [{'assay': {'id': 'LOINC:35925-4', 'label': 'B...   \n",
              "3  [{'assay': {'id': 'LOINC:35925-4', 'label': 'B...   \n",
              "4  [{'assay': {'id': 'LOINC:35925-4', 'label': 'B...   \n",
              "\n",
              "                                      medicalActions  \\\n",
              "0  [{'procedure': {'code': {'id': 'OPCS4:L46.3', ...   \n",
              "1  [{'procedure': {'code': {'id': 'OPCS4:K06.1', ...   \n",
              "2  [{'procedure': {'code': {'id': 'OPCS4:T89.4', ...   \n",
              "3  [{'procedure': {'code': {'id': 'OPCS4:T77.2', ...   \n",
              "4  [{'procedure': {'code': {'id': 'OPCS4:Z01.4', ...   \n",
              "\n",
              "                                            metaData  \\\n",
              "0  {'created': '2023-08-30T15:48:27Z', 'createdBy...   \n",
              "1  {'created': '2023-08-30T15:48:27Z', 'createdBy...   \n",
              "2  {'created': '2023-08-30T15:48:27Z', 'createdBy...   \n",
              "3  {'created': '2023-08-30T15:48:27Z', 'createdBy...   \n",
              "4  {'created': '2023-08-30T15:48:27Z', 'createdBy...   \n",
              "\n",
              "                                             subject  \n",
              "0  {'id': 'HG00096', 'sex': 'MALE', 'vitalStatus'...  \n",
              "1  {'id': 'HG00097', 'sex': 'FEMALE', 'vitalStatu...  \n",
              "2  {'id': 'HG00099', 'sex': 'FEMALE', 'vitalStatu...  \n",
              "3  {'id': 'HG00100', 'sex': 'FEMALE', 'vitalStatu...  \n",
              "4  {'id': 'HG00101', 'sex': 'MALE', 'vitalStatus'...  "
            ],
            "text/html": [
              "\n",
              "  <div id=\"df-e8dbfc35-d4d2-4b3f-8611-d5afc8a621d5\" class=\"colab-df-container\">\n",
              "    <div>\n",
              "<style scoped>\n",
              "    .dataframe tbody tr th:only-of-type {\n",
              "        vertical-align: middle;\n",
              "    }\n",
              "\n",
              "    .dataframe tbody tr th {\n",
              "        vertical-align: top;\n",
              "    }\n",
              "\n",
              "    .dataframe thead th {\n",
              "        text-align: right;\n",
              "    }\n",
              "</style>\n",
              "<table border=\"1\" class=\"dataframe\">\n",
              "  <thead>\n",
              "    <tr style=\"text-align: right;\">\n",
              "      <th></th>\n",
              "      <th>diseases</th>\n",
              "      <th>id</th>\n",
              "      <th>measurements</th>\n",
              "      <th>medicalActions</th>\n",
              "      <th>metaData</th>\n",
              "      <th>subject</th>\n",
              "    </tr>\n",
              "  </thead>\n",
              "  <tbody>\n",
              "    <tr>\n",
              "      <th>0</th>\n",
              "      <td>[]</td>\n",
              "      <td>phenopacket_id.GPkLruXtK</td>\n",
              "      <td>[{'assay': {'id': 'LOINC:35925-4', 'label': 'B...</td>\n",
              "      <td>[{'procedure': {'code': {'id': 'OPCS4:L46.3', ...</td>\n",
              "      <td>{'created': '2023-08-30T15:48:27Z', 'createdBy...</td>\n",
              "      <td>{'id': 'HG00096', 'sex': 'MALE', 'vitalStatus'...</td>\n",
              "    </tr>\n",
              "    <tr>\n",
              "      <th>1</th>\n",
              "      <td>[]</td>\n",
              "      <td>phenopacket_id.FO4oFq6yc</td>\n",
              "      <td>[{'assay': {'id': 'LOINC:35925-4', 'label': 'B...</td>\n",
              "      <td>[{'procedure': {'code': {'id': 'OPCS4:K06.1', ...</td>\n",
              "      <td>{'created': '2023-08-30T15:48:27Z', 'createdBy...</td>\n",
              "      <td>{'id': 'HG00097', 'sex': 'FEMALE', 'vitalStatu...</td>\n",
              "    </tr>\n",
              "    <tr>\n",
              "      <th>2</th>\n",
              "      <td>[]</td>\n",
              "      <td>phenopacket_id.hlOsfvE9z</td>\n",
              "      <td>[{'assay': {'id': 'LOINC:35925-4', 'label': 'B...</td>\n",
              "      <td>[{'procedure': {'code': {'id': 'OPCS4:T89.4', ...</td>\n",
              "      <td>{'created': '2023-08-30T15:48:27Z', 'createdBy...</td>\n",
              "      <td>{'id': 'HG00099', 'sex': 'FEMALE', 'vitalStatu...</td>\n",
              "    </tr>\n",
              "    <tr>\n",
              "      <th>3</th>\n",
              "      <td>[]</td>\n",
              "      <td>phenopacket_id.eQJEawJog</td>\n",
              "      <td>[{'assay': {'id': 'LOINC:35925-4', 'label': 'B...</td>\n",
              "      <td>[{'procedure': {'code': {'id': 'OPCS4:T77.2', ...</td>\n",
              "      <td>{'created': '2023-08-30T15:48:27Z', 'createdBy...</td>\n",
              "      <td>{'id': 'HG00100', 'sex': 'FEMALE', 'vitalStatu...</td>\n",
              "    </tr>\n",
              "    <tr>\n",
              "      <th>4</th>\n",
              "      <td>[]</td>\n",
              "      <td>phenopacket_id.eR66GvvrU</td>\n",
              "      <td>[{'assay': {'id': 'LOINC:35925-4', 'label': 'B...</td>\n",
              "      <td>[{'procedure': {'code': {'id': 'OPCS4:Z01.4', ...</td>\n",
              "      <td>{'created': '2023-08-30T15:48:27Z', 'createdBy...</td>\n",
              "      <td>{'id': 'HG00101', 'sex': 'MALE', 'vitalStatus'...</td>\n",
              "    </tr>\n",
              "  </tbody>\n",
              "</table>\n",
              "</div>\n",
              "    <div class=\"colab-df-buttons\">\n",
              "\n",
              "  <div class=\"colab-df-container\">\n",
              "    <button class=\"colab-df-convert\" onclick=\"convertToInteractive('df-e8dbfc35-d4d2-4b3f-8611-d5afc8a621d5')\"\n",
              "            title=\"Convert this dataframe to an interactive table.\"\n",
              "            style=\"display:none;\">\n",
              "\n",
              "  <svg xmlns=\"http://www.w3.org/2000/svg\" height=\"24px\" viewBox=\"0 -960 960 960\">\n",
              "    <path d=\"M120-120v-720h720v720H120Zm60-500h600v-160H180v160Zm220 220h160v-160H400v160Zm0 220h160v-160H400v160ZM180-400h160v-160H180v160Zm440 0h160v-160H620v160ZM180-180h160v-160H180v160Zm440 0h160v-160H620v160Z\"/>\n",
              "  </svg>\n",
              "    </button>\n",
              "\n",
              "  <style>\n",
              "    .colab-df-container {\n",
              "      display:flex;\n",
              "      gap: 12px;\n",
              "    }\n",
              "\n",
              "    .colab-df-convert {\n",
              "      background-color: #E8F0FE;\n",
              "      border: none;\n",
              "      border-radius: 50%;\n",
              "      cursor: pointer;\n",
              "      display: none;\n",
              "      fill: #1967D2;\n",
              "      height: 32px;\n",
              "      padding: 0 0 0 0;\n",
              "      width: 32px;\n",
              "    }\n",
              "\n",
              "    .colab-df-convert:hover {\n",
              "      background-color: #E2EBFA;\n",
              "      box-shadow: 0px 1px 2px rgba(60, 64, 67, 0.3), 0px 1px 3px 1px rgba(60, 64, 67, 0.15);\n",
              "      fill: #174EA6;\n",
              "    }\n",
              "\n",
              "    .colab-df-buttons div {\n",
              "      margin-bottom: 4px;\n",
              "    }\n",
              "\n",
              "    [theme=dark] .colab-df-convert {\n",
              "      background-color: #3B4455;\n",
              "      fill: #D2E3FC;\n",
              "    }\n",
              "\n",
              "    [theme=dark] .colab-df-convert:hover {\n",
              "      background-color: #434B5C;\n",
              "      box-shadow: 0px 1px 3px 1px rgba(0, 0, 0, 0.15);\n",
              "      filter: drop-shadow(0px 1px 2px rgba(0, 0, 0, 0.3));\n",
              "      fill: #FFFFFF;\n",
              "    }\n",
              "  </style>\n",
              "\n",
              "    <script>\n",
              "      const buttonEl =\n",
              "        document.querySelector('#df-e8dbfc35-d4d2-4b3f-8611-d5afc8a621d5 button.colab-df-convert');\n",
              "      buttonEl.style.display =\n",
              "        google.colab.kernel.accessAllowed ? 'block' : 'none';\n",
              "\n",
              "      async function convertToInteractive(key) {\n",
              "        const element = document.querySelector('#df-e8dbfc35-d4d2-4b3f-8611-d5afc8a621d5');\n",
              "        const dataTable =\n",
              "          await google.colab.kernel.invokeFunction('convertToInteractive',\n",
              "                                                    [key], {});\n",
              "        if (!dataTable) return;\n",
              "\n",
              "        const docLinkHtml = 'Like what you see? Visit the ' +\n",
              "          '<a target=\"_blank\" href=https://colab.research.google.com/notebooks/data_table.ipynb>data table notebook</a>'\n",
              "          + ' to learn more about interactive tables.';\n",
              "        element.innerHTML = '';\n",
              "        dataTable['output_type'] = 'display_data';\n",
              "        await google.colab.output.renderOutput(dataTable, element);\n",
              "        const docLink = document.createElement('div');\n",
              "        docLink.innerHTML = docLinkHtml;\n",
              "        element.appendChild(docLink);\n",
              "      }\n",
              "    </script>\n",
              "  </div>\n",
              "\n",
              "\n",
              "<div id=\"df-53c32bcf-c211-4b3b-a7fc-51d4ebaf6c1b\">\n",
              "  <button class=\"colab-df-quickchart\" onclick=\"quickchart('df-53c32bcf-c211-4b3b-a7fc-51d4ebaf6c1b')\"\n",
              "            title=\"Suggest charts.\"\n",
              "            style=\"display:none;\">\n",
              "\n",
              "<svg xmlns=\"http://www.w3.org/2000/svg\" height=\"24px\"viewBox=\"0 0 24 24\"\n",
              "     width=\"24px\">\n",
              "    <g>\n",
              "        <path d=\"M19 3H5c-1.1 0-2 .9-2 2v14c0 1.1.9 2 2 2h14c1.1 0 2-.9 2-2V5c0-1.1-.9-2-2-2zM9 17H7v-7h2v7zm4 0h-2V7h2v10zm4 0h-2v-4h2v4z\"/>\n",
              "    </g>\n",
              "</svg>\n",
              "  </button>\n",
              "\n",
              "<style>\n",
              "  .colab-df-quickchart {\n",
              "    background-color: #E8F0FE;\n",
              "    border: none;\n",
              "    border-radius: 50%;\n",
              "    cursor: pointer;\n",
              "    display: none;\n",
              "    fill: #1967D2;\n",
              "    height: 32px;\n",
              "    padding: 0 0 0 0;\n",
              "    width: 32px;\n",
              "  }\n",
              "\n",
              "  .colab-df-quickchart:hover {\n",
              "    background-color: #E2EBFA;\n",
              "    box-shadow: 0px 1px 2px rgba(60, 64, 67, 0.3), 0px 1px 3px 1px rgba(60, 64, 67, 0.15);\n",
              "    fill: #174EA6;\n",
              "  }\n",
              "\n",
              "  [theme=dark] .colab-df-quickchart {\n",
              "    background-color: #3B4455;\n",
              "    fill: #D2E3FC;\n",
              "  }\n",
              "\n",
              "  [theme=dark] .colab-df-quickchart:hover {\n",
              "    background-color: #434B5C;\n",
              "    box-shadow: 0px 1px 3px 1px rgba(0, 0, 0, 0.15);\n",
              "    filter: drop-shadow(0px 1px 2px rgba(0, 0, 0, 0.3));\n",
              "    fill: #FFFFFF;\n",
              "  }\n",
              "</style>\n",
              "\n",
              "  <script>\n",
              "    async function quickchart(key) {\n",
              "      const charts = await google.colab.kernel.invokeFunction(\n",
              "          'suggestCharts', [key], {});\n",
              "    }\n",
              "    (() => {\n",
              "      let quickchartButtonEl =\n",
              "        document.querySelector('#df-53c32bcf-c211-4b3b-a7fc-51d4ebaf6c1b button');\n",
              "      quickchartButtonEl.style.display =\n",
              "        google.colab.kernel.accessAllowed ? 'block' : 'none';\n",
              "    })();\n",
              "  </script>\n",
              "</div>\n",
              "    </div>\n",
              "  </div>\n"
            ],
            "application/vnd.google.colaboratory.module+javascript": "\n      import \"https://ssl.gstatic.com/colaboratory/data_table/881c4a0d49046431/data_table.js\";\n\n      const table = window.createDataTable({\n        data: [[{\n            'v': 0,\n            'f': \"0\",\n        },\n[],\n\"phenopacket_id.GPkLruXtK\",\n[\"{'assay': {'id': 'LOINC:35925-4', 'label': 'BMI'}, 'value': {'quantity': {'unit': {'id': 'NCIT:C49671', 'label': 'Kilogram per Square Meter'}, 'value': 26.63838307}}}\", \"{'assay': {'id': 'LOINC:3141-9', 'label': 'Weight'}, 'value': {'quantity': {'unit': {'id': 'NCIT:C28252', 'label': 'Kilogram'}, 'value': 85.6358}}}\", \"{'assay': {'id': 'LOINC:8308-9', 'label': 'Height-standing'}, 'value': {'quantity': {'unit': {'id': 'NCIT:C49668', 'label': 'Centimeter'}, 'value': 179.2973}}}\"],\n[\"{'procedure': {'code': {'id': 'OPCS4:L46.3', 'label': 'OPCS(v4-0.0):Ligation of visceral branch of abdominal aorta NEC'}, 'performed': {'timestamp': '1900-01-01T00:00:00Z'}}}\"],\n\"{'created': '2023-08-30T15:48:27Z', 'createdBy': 'convert-pheno-user', 'externalReferences': [{'description': 'Observational Health Data Sciences and Informatics (OHDSI): Opportunities for Observational Researchers', 'id': 'PMID: 26262116', 'reference': 'https://www.ncbi.nlm.nih.gov/pmc/articles/PMC4815923'}], 'phenopacketSchemaVersion': '2.0', 'resources': [{'id': 'ICD10', 'iriPrefix': 'https://icd.who.int/browse10/2019/en#/', 'name': 'International Statistical Classification of Diseases and Related Health Problems 10th Revision', 'namespacePrefix': 'ICD10', 'url': 'https://icd.who.int/browse10/2019/en#', 'version': '2019'}, {'id': 'NCIT', 'iriPrefix': 'http://purl.obolibrary.org/obo/NCIT_', 'name': 'NCI Thesaurus', 'namespacePrefix': 'NCIT', 'url': 'http://purl.obolibrary.org/obo/ncit.owl', 'version': '22.03d'}, {'id': 'Athena-OHDSI', 'iriPrefix': 'http://www.fakeurl.com/OHDSI_', 'name': 'Athena-OHDSI', 'namespacePrefix': 'OHDSI', 'url': 'https://athena.ohdsi.org', 'version': 'v5.3.1'}], 'submittedBy': 'convert-pheno-user'}\",\n\"{'id': 'HG00096', 'sex': 'MALE', 'vitalStatus': {'status': 'ALIVE'}}\"],\n [{\n            'v': 1,\n            'f': \"1\",\n        },\n[],\n\"phenopacket_id.FO4oFq6yc\",\n[\"{'assay': {'id': 'LOINC:35925-4', 'label': 'BMI'}, 'value': {'quantity': {'unit': {'id': 'NCIT:C49671', 'label': 'Kilogram per Square Meter'}, 'value': 25.62278441}}}\", \"{'assay': {'id': 'LOINC:3141-9', 'label': 'Weight'}, 'value': {'quantity': {'unit': {'id': 'NCIT:C28252', 'label': 'Kilogram'}, 'value': 64.5722}}}\", \"{'assay': {'id': 'LOINC:8308-9', 'label': 'Height-standing'}, 'value': {'quantity': {'unit': {'id': 'NCIT:C49668', 'label': 'Centimeter'}, 'value': 158.7485}}}\"],\n[\"{'procedure': {'code': {'id': 'OPCS4:K06.1', 'label': 'OPCS(v4-0.0):Repositioning of transposed great arteries'}, 'performed': {'timestamp': '1900-01-01T00:00:00Z'}}}\"],\n\"{'created': '2023-08-30T15:48:27Z', 'createdBy': 'convert-pheno-user', 'externalReferences': [{'description': 'Observational Health Data Sciences and Informatics (OHDSI): Opportunities for Observational Researchers', 'id': 'PMID: 26262116', 'reference': 'https://www.ncbi.nlm.nih.gov/pmc/articles/PMC4815923'}], 'phenopacketSchemaVersion': '2.0', 'resources': [{'id': 'ICD10', 'iriPrefix': 'https://icd.who.int/browse10/2019/en#/', 'name': 'International Statistical Classification of Diseases and Related Health Problems 10th Revision', 'namespacePrefix': 'ICD10', 'url': 'https://icd.who.int/browse10/2019/en#', 'version': '2019'}, {'id': 'NCIT', 'iriPrefix': 'http://purl.obolibrary.org/obo/NCIT_', 'name': 'NCI Thesaurus', 'namespacePrefix': 'NCIT', 'url': 'http://purl.obolibrary.org/obo/ncit.owl', 'version': '22.03d'}, {'id': 'Athena-OHDSI', 'iriPrefix': 'http://www.fakeurl.com/OHDSI_', 'name': 'Athena-OHDSI', 'namespacePrefix': 'OHDSI', 'url': 'https://athena.ohdsi.org', 'version': 'v5.3.1'}], 'submittedBy': 'convert-pheno-user'}\",\n\"{'id': 'HG00097', 'sex': 'FEMALE', 'vitalStatus': {'status': 'ALIVE'}}\"],\n [{\n            'v': 2,\n            'f': \"2\",\n        },\n[],\n\"phenopacket_id.hlOsfvE9z\",\n[\"{'assay': {'id': 'LOINC:35925-4', 'label': 'BMI'}, 'value': {'quantity': {'unit': {'id': 'NCIT:C49671', 'label': 'Kilogram per Square Meter'}, 'value': 22.35976255}}}\", \"{'assay': {'id': 'LOINC:3141-9', 'label': 'Weight'}, 'value': {'quantity': {'unit': {'id': 'NCIT:C28252', 'label': 'Kilogram'}, 'value': 64.4364}}}\", \"{'assay': {'id': 'LOINC:8308-9', 'label': 'Height-standing'}, 'value': {'quantity': {'unit': {'id': 'NCIT:C49668', 'label': 'Centimeter'}, 'value': 169.7587}}}\"],\n[\"{'procedure': {'code': {'id': 'OPCS4:T89.4', 'label': 'OPCS(v4-0.0):Cannulation of lymphatic duct'}, 'performed': {'timestamp': '1900-01-01T00:00:00Z'}}}\"],\n\"{'created': '2023-08-30T15:48:27Z', 'createdBy': 'convert-pheno-user', 'externalReferences': [{'description': 'Observational Health Data Sciences and Informatics (OHDSI): Opportunities for Observational Researchers', 'id': 'PMID: 26262116', 'reference': 'https://www.ncbi.nlm.nih.gov/pmc/articles/PMC4815923'}], 'phenopacketSchemaVersion': '2.0', 'resources': [{'id': 'ICD10', 'iriPrefix': 'https://icd.who.int/browse10/2019/en#/', 'name': 'International Statistical Classification of Diseases and Related Health Problems 10th Revision', 'namespacePrefix': 'ICD10', 'url': 'https://icd.who.int/browse10/2019/en#', 'version': '2019'}, {'id': 'NCIT', 'iriPrefix': 'http://purl.obolibrary.org/obo/NCIT_', 'name': 'NCI Thesaurus', 'namespacePrefix': 'NCIT', 'url': 'http://purl.obolibrary.org/obo/ncit.owl', 'version': '22.03d'}, {'id': 'Athena-OHDSI', 'iriPrefix': 'http://www.fakeurl.com/OHDSI_', 'name': 'Athena-OHDSI', 'namespacePrefix': 'OHDSI', 'url': 'https://athena.ohdsi.org', 'version': 'v5.3.1'}], 'submittedBy': 'convert-pheno-user'}\",\n\"{'id': 'HG00099', 'sex': 'FEMALE', 'vitalStatus': {'status': 'ALIVE'}}\"],\n [{\n            'v': 3,\n            'f': \"3\",\n        },\n[],\n\"phenopacket_id.eQJEawJog\",\n[\"{'assay': {'id': 'LOINC:35925-4', 'label': 'BMI'}, 'value': {'quantity': {'unit': {'id': 'NCIT:C49671', 'label': 'Kilogram per Square Meter'}, 'value': 28.27885509}}}\", \"{'assay': {'id': 'LOINC:3141-9', 'label': 'Weight'}, 'value': {'quantity': {'unit': {'id': 'NCIT:C28252', 'label': 'Kilogram'}, 'value': 74.4885}}}\", \"{'assay': {'id': 'LOINC:8308-9', 'label': 'Height-standing'}, 'value': {'quantity': {'unit': {'id': 'NCIT:C49668', 'label': 'Centimeter'}, 'value': 162.2982}}}\"],\n[\"{'procedure': {'code': {'id': 'OPCS4:T77.2', 'label': 'OPCS(v4-0.0):Wide excision of muscle'}, 'performed': {'timestamp': '1900-01-01T00:00:00Z'}}}\"],\n\"{'created': '2023-08-30T15:48:27Z', 'createdBy': 'convert-pheno-user', 'externalReferences': [{'description': 'Observational Health Data Sciences and Informatics (OHDSI): Opportunities for Observational Researchers', 'id': 'PMID: 26262116', 'reference': 'https://www.ncbi.nlm.nih.gov/pmc/articles/PMC4815923'}], 'phenopacketSchemaVersion': '2.0', 'resources': [{'id': 'ICD10', 'iriPrefix': 'https://icd.who.int/browse10/2019/en#/', 'name': 'International Statistical Classification of Diseases and Related Health Problems 10th Revision', 'namespacePrefix': 'ICD10', 'url': 'https://icd.who.int/browse10/2019/en#', 'version': '2019'}, {'id': 'NCIT', 'iriPrefix': 'http://purl.obolibrary.org/obo/NCIT_', 'name': 'NCI Thesaurus', 'namespacePrefix': 'NCIT', 'url': 'http://purl.obolibrary.org/obo/ncit.owl', 'version': '22.03d'}, {'id': 'Athena-OHDSI', 'iriPrefix': 'http://www.fakeurl.com/OHDSI_', 'name': 'Athena-OHDSI', 'namespacePrefix': 'OHDSI', 'url': 'https://athena.ohdsi.org', 'version': 'v5.3.1'}], 'submittedBy': 'convert-pheno-user'}\",\n\"{'id': 'HG00100', 'sex': 'FEMALE', 'vitalStatus': {'status': 'ALIVE'}}\"],\n [{\n            'v': 4,\n            'f': \"4\",\n        },\n[],\n\"phenopacket_id.eR66GvvrU\",\n[\"{'assay': {'id': 'LOINC:35925-4', 'label': 'BMI'}, 'value': {'quantity': {'unit': {'id': 'NCIT:C49671', 'label': 'Kilogram per Square Meter'}, 'value': 25.52066954}}}\", \"{'assay': {'id': 'LOINC:3141-9', 'label': 'Weight'}, 'value': {'quantity': {'unit': {'id': 'NCIT:C28252', 'label': 'Kilogram'}, 'value': 82.3472}}}\", \"{'assay': {'id': 'LOINC:8308-9', 'label': 'Height-standing'}, 'value': {'quantity': {'unit': {'id': 'NCIT:C49668', 'label': 'Centimeter'}, 'value': 179.6298}}}\"],\n[\"{'procedure': {'code': {'id': 'OPCS4:Z01.4', 'label': 'OPCS(v4-0.0):Tissue of occipital lobe of brain'}, 'performed': {'timestamp': '1900-01-01T00:00:00Z'}}}\"],\n\"{'created': '2023-08-30T15:48:27Z', 'createdBy': 'convert-pheno-user', 'externalReferences': [{'description': 'Observational Health Data Sciences and Informatics (OHDSI): Opportunities for Observational Researchers', 'id': 'PMID: 26262116', 'reference': 'https://www.ncbi.nlm.nih.gov/pmc/articles/PMC4815923'}], 'phenopacketSchemaVersion': '2.0', 'resources': [{'id': 'ICD10', 'iriPrefix': 'https://icd.who.int/browse10/2019/en#/', 'name': 'International Statistical Classification of Diseases and Related Health Problems 10th Revision', 'namespacePrefix': 'ICD10', 'url': 'https://icd.who.int/browse10/2019/en#', 'version': '2019'}, {'id': 'NCIT', 'iriPrefix': 'http://purl.obolibrary.org/obo/NCIT_', 'name': 'NCI Thesaurus', 'namespacePrefix': 'NCIT', 'url': 'http://purl.obolibrary.org/obo/ncit.owl', 'version': '22.03d'}, {'id': 'Athena-OHDSI', 'iriPrefix': 'http://www.fakeurl.com/OHDSI_', 'name': 'Athena-OHDSI', 'namespacePrefix': 'OHDSI', 'url': 'https://athena.ohdsi.org', 'version': 'v5.3.1'}], 'submittedBy': 'convert-pheno-user'}\",\n\"{'id': 'HG00101', 'sex': 'MALE', 'vitalStatus': {'status': 'ALIVE'}}\"]],\n        columns: [[\"number\", \"index\"], [\"string\", \"diseases\"], [\"string\", \"id\"], [\"string\", \"measurements\"], [\"string\", \"medicalActions\"], [\"string\", \"metaData\"], [\"string\", \"subject\"]],\n        columnOptions: [{\"width\": \"1px\", \"className\": \"index_column\"}],\n        rowsPerPage: 25,\n        helpUrl: \"https://colab.research.google.com/notebooks/data_table.ipynb\",\n        suppressOutputScrolling: true,\n        minimumWidth: undefined,\n      });\n\n      function appendQuickchartButton(parentElement) {\n        let quickchartButtonContainerElement = document.createElement('div');\n        quickchartButtonContainerElement.innerHTML = `\n<div id=\"df-dd87817e-e9b2-441e-adf0-d6e453203461\">\n  <button class=\"colab-df-quickchart\" onclick=\"quickchart('df-dd87817e-e9b2-441e-adf0-d6e453203461')\"\n            title=\"Suggest charts.\"\n            style=\"display:none;\">\n    \n<svg xmlns=\"http://www.w3.org/2000/svg\" height=\"24px\"viewBox=\"0 0 24 24\"\n     width=\"24px\">\n    <g>\n        <path d=\"M19 3H5c-1.1 0-2 .9-2 2v14c0 1.1.9 2 2 2h14c1.1 0 2-.9 2-2V5c0-1.1-.9-2-2-2zM9 17H7v-7h2v7zm4 0h-2V7h2v10zm4 0h-2v-4h2v4z\"/>\n    </g>\n</svg>\n  </button>\n  \n<style>\n  .colab-df-quickchart {\n    background-color: #E8F0FE;\n    border: none;\n    border-radius: 50%;\n    cursor: pointer;\n    display: none;\n    fill: #1967D2;\n    height: 32px;\n    padding: 0 0 0 0;\n    width: 32px;\n  }\n\n  .colab-df-quickchart:hover {\n    background-color: #E2EBFA;\n    box-shadow: 0px 1px 2px rgba(60, 64, 67, 0.3), 0px 1px 3px 1px rgba(60, 64, 67, 0.15);\n    fill: #174EA6;\n  }\n\n  [theme=dark] .colab-df-quickchart {\n    background-color: #3B4455;\n    fill: #D2E3FC;\n  }\n\n  [theme=dark] .colab-df-quickchart:hover {\n    background-color: #434B5C;\n    box-shadow: 0px 1px 3px 1px rgba(0, 0, 0, 0.15);\n    filter: drop-shadow(0px 1px 2px rgba(0, 0, 0, 0.3));\n    fill: #FFFFFF;\n  }\n</style>\n\n  <script>\n    async function quickchart(key) {\n      const charts = await google.colab.kernel.invokeFunction(\n          'suggestCharts', [key], {});\n    }\n    (() => {\n      let quickchartButtonEl =\n        document.querySelector('#df-dd87817e-e9b2-441e-adf0-d6e453203461 button');\n      quickchartButtonEl.style.display =\n        google.colab.kernel.accessAllowed ? 'block' : 'none';\n    })();\n  </script>\n</div>`;\n        parentElement.appendChild(quickchartButtonContainerElement);\n      }\n\n      appendQuickchartButton(table);\n    "
          },
          "metadata": {},
          "execution_count": 24
        }
      ],
      "source": [
        "import pandas as pd\n",
        "from google.colab import data_table\n",
        "data_table.enable_dataframe_formatter()\n",
        "\n",
        "# Import json\n",
        "df = pd.read_json('/content/pxf.json')\n",
        "df.head()"
      ]
    },
    {
      "cell_type": "markdown",
      "metadata": {
        "id": "IqMwDlp6wr9-"
      },
      "source": [
        "## OMOP to BFF"
      ]
    },
    {
      "cell_type": "markdown",
      "metadata": {
        "id": "aZR7cyDOqxXu"
      },
      "source": [
        "Now we're going to convert OMOP-CDM to BFF. This time we'll tell `Convert-Pheno` to be more **verbose**.\n",
        "\n",
        "We'll be using the flag:\n",
        "\n",
        "* `--verbose`"
      ]
    },
    {
      "cell_type": "code",
      "execution_count": 25,
      "metadata": {
        "colab": {
          "base_uri": "https://localhost:8080/"
        },
        "id": "03AZqiKkrBOy",
        "outputId": "8918a9db-16ac-4ad0-fbe0-82574959eb0f"
      },
      "outputs": [
        {
          "output_type": "stream",
          "name": "stdout",
          "text": [
            "\u001b[1m\u001b[36m****************************************\n",
            "*  Phenotypic Data Model Convert Tool  *\n",
            "*          - CONVERT-PHENO -           *\n",
            "*            Version: 0.12             *\n",
            "*   (C) 2022-2023 Manuel Rueda, CNAG   *\n",
            "*       The Artistic License 2.0       *\n",
            "****************************************\n",
            "\u001b[0m\n",
            "\u001b[1m\u001b[34m==== METHOD: <omop2bff> ====\n",
            "Processing: <t/omop2bff/in/omop_cdm_eunomia.sql>\n",
            "\u001b[1m\u001b[32mWriting </content/omop_individuals.json> file\n",
            "\u001b[0m\n",
            "Processing table ... <CONCEPT>\n",
            "==============\n",
            "Rows total:     444\n",
            "\n",
            "Processing table ... <CONDITION_OCCURRENCE>\n",
            "==============\n",
            "Rows total:     500\n",
            "\n",
            "Processing table ... <DRUG_EXPOSURE>\n",
            "==============\n",
            "Rows total:     500\n",
            "\n",
            "Processing table ... <MEASUREMENT>\n",
            "==============\n",
            "Rows total:     500\n",
            "\n",
            "Processing table ... <OBSERVATION>\n",
            "==============\n",
            "Rows total:     500\n",
            "\n",
            "Processing table ... <PERSON>\n",
            "==============\n",
            "Rows total:     500\n",
            "\n",
            "Processing table ... <PROCEDURE_OCCURRENCE>\n",
            "==============\n",
            "Rows total:     500\n",
            "\n",
            "Processing table ... <VISIT_OCCURRENCE>\n",
            "==============\n",
            "Rows total:     500\n",
            "\n",
            "==============\n",
            "Individuals total:     500\n",
            "\n"
          ]
        }
      ],
      "source": [
        "!bin/convert-pheno -iomop t/omop2bff/in/omop_cdm_eunomia.sql -obff omop_individuals.json --out-dir /content --verbose"
      ]
    },
    {
      "cell_type": "markdown",
      "metadata": {
        "id": "udGtDlONkAES"
      },
      "source": [
        "Let's take a look to the data, just as we did with PXF. We'll be displaying only the 1st individual."
      ]
    },
    {
      "cell_type": "code",
      "execution_count": 26,
      "metadata": {
        "colab": {
          "base_uri": "https://localhost:8080/",
          "height": 2158
        },
        "id": "CZaWp1ItkG5c",
        "outputId": "cf30c9df-311a-484b-88b1-baba7abf0fc4"
      },
      "outputs": [
        {
          "output_type": "execute_result",
          "data": {
            "text/plain": [
              "                                            diseases  \\\n",
              "0  [{'_info': {'CONDITION_OCCURRENCE': {'OMOP_col...   \n",
              "\n",
              "                                 ethnicity  \\\n",
              "0  {'id': 'NCIT:C41261', 'label': 'White'}   \n",
              "\n",
              "                            geographicOrigin  id  \\\n",
              "0  {'id': 'NCIT:C43857', 'label': 'Italian'}   1   \n",
              "\n",
              "                                                info  \\\n",
              "0  {'PERSON': {'OMOP_columns': {'birth_datetime':...   \n",
              "\n",
              "                           interventionsOrProcedures  \\\n",
              "0  [{'_info': {'PROCEDURE_OCCURRENCE': {'OMOP_col...   \n",
              "\n",
              "                                      sex phenotypicFeatures treatments  \n",
              "0  {'id': 'NCIT:C20197', 'label': 'Male'}                NaN        NaN  "
            ],
            "text/html": [
              "\n",
              "  <div id=\"df-c7360d07-248c-4b46-99b4-3d6650540660\" class=\"colab-df-container\">\n",
              "    <div>\n",
              "<style scoped>\n",
              "    .dataframe tbody tr th:only-of-type {\n",
              "        vertical-align: middle;\n",
              "    }\n",
              "\n",
              "    .dataframe tbody tr th {\n",
              "        vertical-align: top;\n",
              "    }\n",
              "\n",
              "    .dataframe thead th {\n",
              "        text-align: right;\n",
              "    }\n",
              "</style>\n",
              "<table border=\"1\" class=\"dataframe\">\n",
              "  <thead>\n",
              "    <tr style=\"text-align: right;\">\n",
              "      <th></th>\n",
              "      <th>diseases</th>\n",
              "      <th>ethnicity</th>\n",
              "      <th>geographicOrigin</th>\n",
              "      <th>id</th>\n",
              "      <th>info</th>\n",
              "      <th>interventionsOrProcedures</th>\n",
              "      <th>sex</th>\n",
              "      <th>phenotypicFeatures</th>\n",
              "      <th>treatments</th>\n",
              "    </tr>\n",
              "  </thead>\n",
              "  <tbody>\n",
              "    <tr>\n",
              "      <th>0</th>\n",
              "      <td>[{'_info': {'CONDITION_OCCURRENCE': {'OMOP_col...</td>\n",
              "      <td>{'id': 'NCIT:C41261', 'label': 'White'}</td>\n",
              "      <td>{'id': 'NCIT:C43857', 'label': 'Italian'}</td>\n",
              "      <td>1</td>\n",
              "      <td>{'PERSON': {'OMOP_columns': {'birth_datetime':...</td>\n",
              "      <td>[{'_info': {'PROCEDURE_OCCURRENCE': {'OMOP_col...</td>\n",
              "      <td>{'id': 'NCIT:C20197', 'label': 'Male'}</td>\n",
              "      <td>NaN</td>\n",
              "      <td>NaN</td>\n",
              "    </tr>\n",
              "  </tbody>\n",
              "</table>\n",
              "</div>\n",
              "    <div class=\"colab-df-buttons\">\n",
              "\n",
              "  <div class=\"colab-df-container\">\n",
              "    <button class=\"colab-df-convert\" onclick=\"convertToInteractive('df-c7360d07-248c-4b46-99b4-3d6650540660')\"\n",
              "            title=\"Convert this dataframe to an interactive table.\"\n",
              "            style=\"display:none;\">\n",
              "\n",
              "  <svg xmlns=\"http://www.w3.org/2000/svg\" height=\"24px\" viewBox=\"0 -960 960 960\">\n",
              "    <path d=\"M120-120v-720h720v720H120Zm60-500h600v-160H180v160Zm220 220h160v-160H400v160Zm0 220h160v-160H400v160ZM180-400h160v-160H180v160Zm440 0h160v-160H620v160ZM180-180h160v-160H180v160Zm440 0h160v-160H620v160Z\"/>\n",
              "  </svg>\n",
              "    </button>\n",
              "\n",
              "  <style>\n",
              "    .colab-df-container {\n",
              "      display:flex;\n",
              "      gap: 12px;\n",
              "    }\n",
              "\n",
              "    .colab-df-convert {\n",
              "      background-color: #E8F0FE;\n",
              "      border: none;\n",
              "      border-radius: 50%;\n",
              "      cursor: pointer;\n",
              "      display: none;\n",
              "      fill: #1967D2;\n",
              "      height: 32px;\n",
              "      padding: 0 0 0 0;\n",
              "      width: 32px;\n",
              "    }\n",
              "\n",
              "    .colab-df-convert:hover {\n",
              "      background-color: #E2EBFA;\n",
              "      box-shadow: 0px 1px 2px rgba(60, 64, 67, 0.3), 0px 1px 3px 1px rgba(60, 64, 67, 0.15);\n",
              "      fill: #174EA6;\n",
              "    }\n",
              "\n",
              "    .colab-df-buttons div {\n",
              "      margin-bottom: 4px;\n",
              "    }\n",
              "\n",
              "    [theme=dark] .colab-df-convert {\n",
              "      background-color: #3B4455;\n",
              "      fill: #D2E3FC;\n",
              "    }\n",
              "\n",
              "    [theme=dark] .colab-df-convert:hover {\n",
              "      background-color: #434B5C;\n",
              "      box-shadow: 0px 1px 3px 1px rgba(0, 0, 0, 0.15);\n",
              "      filter: drop-shadow(0px 1px 2px rgba(0, 0, 0, 0.3));\n",
              "      fill: #FFFFFF;\n",
              "    }\n",
              "  </style>\n",
              "\n",
              "    <script>\n",
              "      const buttonEl =\n",
              "        document.querySelector('#df-c7360d07-248c-4b46-99b4-3d6650540660 button.colab-df-convert');\n",
              "      buttonEl.style.display =\n",
              "        google.colab.kernel.accessAllowed ? 'block' : 'none';\n",
              "\n",
              "      async function convertToInteractive(key) {\n",
              "        const element = document.querySelector('#df-c7360d07-248c-4b46-99b4-3d6650540660');\n",
              "        const dataTable =\n",
              "          await google.colab.kernel.invokeFunction('convertToInteractive',\n",
              "                                                    [key], {});\n",
              "        if (!dataTable) return;\n",
              "\n",
              "        const docLinkHtml = 'Like what you see? Visit the ' +\n",
              "          '<a target=\"_blank\" href=https://colab.research.google.com/notebooks/data_table.ipynb>data table notebook</a>'\n",
              "          + ' to learn more about interactive tables.';\n",
              "        element.innerHTML = '';\n",
              "        dataTable['output_type'] = 'display_data';\n",
              "        await google.colab.output.renderOutput(dataTable, element);\n",
              "        const docLink = document.createElement('div');\n",
              "        docLink.innerHTML = docLinkHtml;\n",
              "        element.appendChild(docLink);\n",
              "      }\n",
              "    </script>\n",
              "  </div>\n",
              "\n",
              "    </div>\n",
              "  </div>\n"
            ],
            "application/vnd.google.colaboratory.module+javascript": "\n      import \"https://ssl.gstatic.com/colaboratory/data_table/881c4a0d49046431/data_table.js\";\n\n      const table = window.createDataTable({\n        data: [[{\n            'v': 0,\n            'f': \"0\",\n        },\n[\"{'_info': {'CONDITION_OCCURRENCE': {'OMOP_columns': {'condition_concept_id': 40479768, 'condition_end_date': '1981-09-16', 'condition_end_datetime': '1981-09-16 00:00:00', 'condition_occurrence_id': 1, 'condition_source_concept_id': 40479768, 'condition_source_value': 444470001, 'condition_start_date': '1981-08-10', 'condition_start_datetime': '1981-08-10 00:00:00', 'condition_status_concept_id': 0, 'condition_status_source_value': None, 'condition_type_concept_id': 32020, 'person_id': 1, 'provider_id': '\\\\\\\\N', 'stop_reason': None, 'visit_detail_id': 0, 'visit_occurrence_id': 82}}}, 'ageOfOnset': {'age': {'iso8601duration': '32Y'}}, 'diseaseCode': {'id': 'SNOMED:444470001', 'label': 'Injury of anterior cruciate ligament'}, 'stage': {'id': 'None:No matching concept', 'label': 'No matching concept'}}\", \"{'_info': {'CONDITION_OCCURRENCE': {'OMOP_columns': {'condition_concept_id': 378001, 'condition_end_date': '2008-07-17', 'condition_end_datetime': '2008-07-17 00:00:00', 'condition_occurrence_id': 2, 'condition_source_concept_id': 378001, 'condition_source_value': 62106007, 'condition_start_date': '2008-05-18', 'condition_start_datetime': '2008-05-18 00:00:00', 'condition_status_concept_id': 0, 'condition_status_source_value': None, 'condition_type_concept_id': 32020, 'person_id': 1, 'provider_id': '\\\\\\\\N', 'stop_reason': None, 'visit_detail_id': 0, 'visit_occurrence_id': 84}}}, 'ageOfOnset': {'age': {'iso8601duration': '59Y'}}, 'diseaseCode': {'id': 'SNOMED:62106007', 'label': 'Concussion with no loss of consciousness'}, 'stage': {'id': 'None:No matching concept', 'label': 'No matching concept'}}\", \"{'_info': {'CONDITION_OCCURRENCE': {'OMOP_columns': {'condition_concept_id': 4112343, 'condition_end_date': '1971-02-02', 'condition_end_datetime': '1971-02-02 00:00:00', 'condition_occurrence_id': 3, 'condition_source_concept_id': 4112343, 'condition_source_value': 195662009, 'condition_start_date': '1971-01-24', 'condition_start_datetime': '1971-01-24 00:00:00', 'condition_status_concept_id': 0, 'condition_status_source_value': None, 'condition_type_concept_id': 32020, 'person_id': 1, 'provider_id': '\\\\\\\\N', 'stop_reason': None, 'visit_detail_id': 0, 'visit_occurrence_id': 42}}}, 'ageOfOnset': {'age': {'iso8601duration': '21Y'}}, 'diseaseCode': {'id': 'SNOMED:195662009', 'label': 'Acute viral pharyngitis'}, 'stage': {'id': 'None:No matching concept', 'label': 'No matching concept'}}\", \"{'_info': {'CONDITION_OCCURRENCE': {'OMOP_columns': {'condition_concept_id': 4112343, 'condition_end_date': '2017-05-20', 'condition_end_datetime': '2017-05-20 00:00:00', 'condition_occurrence_id': 4, 'condition_source_concept_id': 4112343, 'condition_source_value': 195662009, 'condition_start_date': '2017-05-12', 'condition_start_datetime': '2017-05-12 00:00:00', 'condition_status_concept_id': 0, 'condition_status_source_value': None, 'condition_type_concept_id': 32020, 'person_id': 1, 'provider_id': '\\\\\\\\N', 'stop_reason': None, 'visit_detail_id': 0, 'visit_occurrence_id': 64}}}, 'ageOfOnset': {'age': {'iso8601duration': '68Y'}}, 'diseaseCode': {'id': 'SNOMED:195662009', 'label': 'Acute viral pharyngitis'}, 'stage': {'id': 'None:No matching concept', 'label': 'No matching concept'}}\", \"{'_info': {'CONDITION_OCCURRENCE': {'OMOP_columns': {'condition_concept_id': 28060, 'condition_end_date': '1953-02-16', 'condition_end_datetime': '1953-02-16 00:00:00', 'condition_occurrence_id': 5, 'condition_source_concept_id': 28060, 'condition_source_value': 43878008, 'condition_start_date': '1953-02-06', 'condition_start_datetime': '1953-02-06 00:00:00', 'condition_status_concept_id': 0, 'condition_status_source_value': None, 'condition_type_concept_id': 32020, 'person_id': 1, 'provider_id': '\\\\\\\\N', 'stop_reason': None, 'visit_detail_id': 0, 'visit_occurrence_id': 41}}}, 'ageOfOnset': {'age': {'iso8601duration': '4Y'}}, 'diseaseCode': {'id': 'SNOMED:43878008', 'label': 'Streptococcal sore throat'}, 'stage': {'id': 'None:No matching concept', 'label': 'No matching concept'}}\", \"{'_info': {'CONDITION_OCCURRENCE': {'OMOP_columns': {'condition_concept_id': 40481087, 'condition_end_date': '2012-02-28', 'condition_end_datetime': '2012-02-28 00:00:00', 'condition_occurrence_id': 6, 'condition_source_concept_id': 40481087, 'condition_source_value': 444814009, 'condition_start_date': '2012-02-14', 'condition_start_datetime': '2012-02-14 00:00:00', 'condition_status_concept_id': 0, 'condition_status_source_value': None, 'condition_type_concept_id': 32020, 'person_id': 1, 'provider_id': '\\\\\\\\N', 'stop_reason': None, 'visit_detail_id': 0, 'visit_occurrence_id': 25}}}, 'ageOfOnset': {'age': {'iso8601duration': '63Y'}}, 'diseaseCode': {'id': 'SNOMED:444814009', 'label': 'Viral sinusitis'}, 'stage': {'id': 'None:No matching concept', 'label': 'No matching concept'}}\", \"{'_info': {'CONDITION_OCCURRENCE': {'OMOP_columns': {'condition_concept_id': 4112343, 'condition_end_date': '2008-01-26', 'condition_end_datetime': '2008-01-26 00:00:00', 'condition_occurrence_id': 7, 'condition_source_concept_id': 4112343, 'condition_source_value': 195662009, 'condition_start_date': '2008-01-16', 'condition_start_datetime': '2008-01-16 00:00:00', 'condition_status_concept_id': 0, 'condition_status_source_value': None, 'condition_type_concept_id': 32020, 'person_id': 1, 'provider_id': '\\\\\\\\N', 'stop_reason': None, 'visit_detail_id': 0, 'visit_occurrence_id': 76}}}, 'ageOfOnset': {'age': {'iso8601duration': '58Y'}}, 'diseaseCode': {'id': 'SNOMED:195662009', 'label': 'Acute viral pharyngitis'}, 'stage': {'id': 'None:No matching concept', 'label': 'No matching concept'}}\", \"{'_info': {'CONDITION_OCCURRENCE': {'OMOP_columns': {'condition_concept_id': 4296205, 'condition_end_date': '1978-07-27', 'condition_end_datetime': '1978-07-27 00:00:00', 'condition_occurrence_id': 8, 'condition_source_concept_id': 4296205, 'condition_source_value': 403191005, 'condition_start_date': '1978-06-22', 'condition_start_datetime': '1978-06-22 00:00:00', 'condition_status_concept_id': 0, 'condition_status_source_value': None, 'condition_type_concept_id': 32020, 'person_id': 1, 'provider_id': '\\\\\\\\N', 'stop_reason': None, 'visit_detail_id': 0, 'visit_occurrence_id': 81}}}, 'ageOfOnset': {'age': {'iso8601duration': '29Y'}}, 'diseaseCode': {'id': 'SNOMED:403191005', 'label': 'Second degree burn'}, 'stage': {'id': 'None:No matching concept', 'label': 'No matching concept'}}\"],\n\"{'id': 'NCIT:C41261', 'label': 'White'}\",\n\"{'id': 'NCIT:C43857', 'label': 'Italian'}\",\n{\n            'v': 1,\n            'f': \"1\",\n        },\n\"{'PERSON': {'OMOP_columns': {'birth_datetime': '1949-01-27 00:00:00', 'care_site_id': '\\\\\\\\N', 'day_of_birth': 27, 'ethnicity_concept_id': 0, 'ethnicity_source_concept_id': 0, 'ethnicity_source_value': 'italian', 'gender_concept_id': 8507, 'gender_source_concept_id': 0, 'gender_source_value': 'M', 'location_id': '\\\\\\\\N', 'month_of_birth': 1, 'person_id': 1, 'person_source_value': '000728a7-80de-420a-9286-2c20e81cb7b8', 'provider_id': '\\\\\\\\N', 'race_concept_id': 8527, 'race_source_concept_id': 0, 'race_source_value': 'white', 'year_of_birth': 1949}}, 'dateOfBirth': '1949-01-27T00:00:00Z'}\",\n[\"{'_info': {'PROCEDURE_OCCURRENCE': {'OMOP_columns': {'modifier_concept_id': 0, 'modifier_source_value': None, 'person_id': 1, 'procedure_concept_id': 44783196, 'procedure_date': '1981-08-17', 'procedure_datetime': '1981-08-17 00:00:00', 'procedure_occurrence_id': 1, 'procedure_source_concept_id': 44783196, 'procedure_source_value': 699253003, 'procedure_type_concept_id': 38000275, 'provider_id': '\\\\\\\\N', 'quantity': '\\\\\\\\N', 'visit_detail_id': 0, 'visit_occurrence_id': 85}}}, 'ageAtProcedure': {'age': {'iso8601duration': '32Y'}}, 'dateOfProcedure': '1981-08-17', 'procedureCode': {'id': 'SNOMED:699253003', 'label': 'Surgical manipulation of joint of knee'}}\", \"{'_info': {'PROCEDURE_OCCURRENCE': {'OMOP_columns': {'modifier_concept_id': 0, 'modifier_source_value': None, 'person_id': 1, 'procedure_concept_id': 4125906, 'procedure_date': '1982-09-11', 'procedure_datetime': '1982-09-11 00:00:00', 'procedure_occurrence_id': 2, 'procedure_source_concept_id': 4125906, 'procedure_source_value': 288086009, 'procedure_type_concept_id': 38000275, 'provider_id': '\\\\\\\\N', 'quantity': '\\\\\\\\N', 'visit_detail_id': 0, 'visit_occurrence_id': 83}}}, 'ageAtProcedure': {'age': {'iso8601duration': '33Y'}}, 'dateOfProcedure': '1982-09-11', 'procedureCode': {'id': 'SNOMED:288086009', 'label': 'Suture open wound'}}\", \"{'_info': {'PROCEDURE_OCCURRENCE': {'OMOP_columns': {'modifier_concept_id': 0, 'modifier_source_value': None, 'person_id': 1, 'procedure_concept_id': 4252419, 'procedure_date': '1981-08-10', 'procedure_datetime': '1981-08-10 00:00:00', 'procedure_occurrence_id': 3, 'procedure_source_concept_id': 4252419, 'procedure_source_value': 74016001, 'procedure_type_concept_id': 38000275, 'provider_id': '\\\\\\\\N', 'quantity': '\\\\\\\\N', 'visit_detail_id': 0, 'visit_occurrence_id': 82}}}, 'ageAtProcedure': {'age': {'iso8601duration': '32Y'}}, 'dateOfProcedure': '1981-08-10', 'procedureCode': {'id': 'SNOMED:74016001', 'label': 'Radiologic examination of knee'}}\", \"{'_info': {'PROCEDURE_OCCURRENCE': {'OMOP_columns': {'modifier_concept_id': 0, 'modifier_source_value': None, 'person_id': 1, 'procedure_concept_id': 4170947, 'procedure_date': '1958-03-11', 'procedure_datetime': '1958-03-11 00:00:00', 'procedure_occurrence_id': 4, 'procedure_source_concept_id': 4170947, 'procedure_source_value': 274474001, 'procedure_type_concept_id': 38000275, 'provider_id': '\\\\\\\\N', 'quantity': '\\\\\\\\N', 'visit_detail_id': 0, 'visit_occurrence_id': 79}}}, 'ageAtProcedure': {'age': {'iso8601duration': '9Y'}}, 'dateOfProcedure': '1958-03-11', 'procedureCode': {'id': 'SNOMED:274474001', 'label': 'Bone immobilization'}}\", \"{'_info': {'PROCEDURE_OCCURRENCE': {'OMOP_columns': {'modifier_concept_id': 0, 'modifier_source_value': None, 'person_id': 1, 'procedure_concept_id': 4047491, 'procedure_date': '1958-03-11', 'procedure_datetime': '1958-03-11 00:00:00', 'procedure_occurrence_id': 5, 'procedure_source_concept_id': 4047491, 'procedure_source_value': 1225002, 'procedure_type_concept_id': 38000275, 'provider_id': '\\\\\\\\N', 'quantity': '\\\\\\\\N', 'visit_detail_id': 0, 'visit_occurrence_id': 79}}}, 'ageAtProcedure': {'age': {'iso8601duration': '9Y'}}, 'dateOfProcedure': '1958-03-11', 'procedureCode': {'id': 'SNOMED:1225002', 'label': 'Radiography of humerus'}}\"],\n\"{'id': 'NCIT:C20197', 'label': 'Male'}\",\n{\n            'v': NaN,\n            'f': \"NaN\",\n        },\n{\n            'v': NaN,\n            'f': \"NaN\",\n        }]],\n        columns: [[\"number\", \"index\"], [\"string\", \"diseases\"], [\"string\", \"ethnicity\"], [\"string\", \"geographicOrigin\"], [\"number\", \"id\"], [\"string\", \"info\"], [\"string\", \"interventionsOrProcedures\"], [\"string\", \"sex\"], [\"number\", \"phenotypicFeatures\"], [\"number\", \"treatments\"]],\n        columnOptions: [{\"width\": \"1px\", \"className\": \"index_column\"}],\n        rowsPerPage: 25,\n        helpUrl: \"https://colab.research.google.com/notebooks/data_table.ipynb\",\n        suppressOutputScrolling: true,\n        minimumWidth: undefined,\n      });\n\n      function appendQuickchartButton(parentElement) {\n        let quickchartButtonContainerElement = document.createElement('div');\n        quickchartButtonContainerElement.innerHTML = `\n<div id=\"df-f3cb574b-ba69-4b88-b633-e73579eda5d5\">\n  <button class=\"colab-df-quickchart\" onclick=\"quickchart('df-f3cb574b-ba69-4b88-b633-e73579eda5d5')\"\n            title=\"Suggest charts.\"\n            style=\"display:none;\">\n    \n<svg xmlns=\"http://www.w3.org/2000/svg\" height=\"24px\"viewBox=\"0 0 24 24\"\n     width=\"24px\">\n    <g>\n        <path d=\"M19 3H5c-1.1 0-2 .9-2 2v14c0 1.1.9 2 2 2h14c1.1 0 2-.9 2-2V5c0-1.1-.9-2-2-2zM9 17H7v-7h2v7zm4 0h-2V7h2v10zm4 0h-2v-4h2v4z\"/>\n    </g>\n</svg>\n  </button>\n  \n<style>\n  .colab-df-quickchart {\n    background-color: #E8F0FE;\n    border: none;\n    border-radius: 50%;\n    cursor: pointer;\n    display: none;\n    fill: #1967D2;\n    height: 32px;\n    padding: 0 0 0 0;\n    width: 32px;\n  }\n\n  .colab-df-quickchart:hover {\n    background-color: #E2EBFA;\n    box-shadow: 0px 1px 2px rgba(60, 64, 67, 0.3), 0px 1px 3px 1px rgba(60, 64, 67, 0.15);\n    fill: #174EA6;\n  }\n\n  [theme=dark] .colab-df-quickchart {\n    background-color: #3B4455;\n    fill: #D2E3FC;\n  }\n\n  [theme=dark] .colab-df-quickchart:hover {\n    background-color: #434B5C;\n    box-shadow: 0px 1px 3px 1px rgba(0, 0, 0, 0.15);\n    filter: drop-shadow(0px 1px 2px rgba(0, 0, 0, 0.3));\n    fill: #FFFFFF;\n  }\n</style>\n\n  <script>\n    async function quickchart(key) {\n      const charts = await google.colab.kernel.invokeFunction(\n          'suggestCharts', [key], {});\n    }\n    (() => {\n      let quickchartButtonEl =\n        document.querySelector('#df-f3cb574b-ba69-4b88-b633-e73579eda5d5 button');\n      quickchartButtonEl.style.display =\n        google.colab.kernel.accessAllowed ? 'block' : 'none';\n    })();\n  </script>\n</div>`;\n        parentElement.appendChild(quickchartButtonContainerElement);\n      }\n\n      appendQuickchartButton(table);\n    "
          },
          "metadata": {},
          "execution_count": 26
        }
      ],
      "source": [
        "import pandas as pd\n",
        "from google.colab import data_table\n",
        "data_table.enable_dataframe_formatter()\n",
        "\n",
        "# Import json\n",
        "df = pd.read_json('/content/omop_individuals.json')\n",
        "df.head(1)"
      ]
    },
    {
      "cell_type": "markdown",
      "metadata": {
        "id": "IPjC9HWDrHWF"
      },
      "source": [
        "Now we'll run `Convert-Pheno` again but we'll ask `Convert-Pheno` to print the SQL tables as `csv` files.\n",
        "\n",
        "We'll be using the flag:\n",
        "\n",
        "* `--sql2csv`"
      ]
    },
    {
      "cell_type": "code",
      "execution_count": 27,
      "metadata": {
        "colab": {
          "base_uri": "https://localhost:8080/"
        },
        "id": "6sYRbHHYrdlg",
        "outputId": "17cca988-77e5-4a89-fbe9-0c9c8dcbd1f6"
      },
      "outputs": [
        {
          "output_type": "stream",
          "name": "stdout",
          "text": [
            "\u001b[1m\u001b[36m****************************************\n",
            "*  Phenotypic Data Model Convert Tool  *\n",
            "*          - CONVERT-PHENO -           *\n",
            "*            Version: 0.12             *\n",
            "*   (C) 2022-2023 Manuel Rueda, CNAG   *\n",
            "*       The Artistic License 2.0       *\n",
            "****************************************\n",
            "\u001b[0m\n",
            "\u001b[1m\u001b[34m==== METHOD: <omop2bff> ====\n",
            "Processing: <t/omop2bff/in/omop_cdm_eunomia.sql>\n",
            "\u001b[1m\u001b[32mWriting </content/omop_individuals.json> file\n",
            "\u001b[0m\n",
            "Processing table ... <CONCEPT>\n",
            "==============\n",
            "Rows total:     444\n",
            "\n",
            "Processing table ... <CONDITION_OCCURRENCE>\n",
            "==============\n",
            "Rows total:     500\n",
            "\n",
            "Processing table ... <DRUG_EXPOSURE>\n",
            "==============\n",
            "Rows total:     500\n",
            "\n",
            "Processing table ... <MEASUREMENT>\n",
            "==============\n",
            "Rows total:     500\n",
            "\n",
            "Processing table ... <OBSERVATION>\n",
            "==============\n",
            "Rows total:     500\n",
            "\n",
            "Processing table ... <PERSON>\n",
            "==============\n",
            "Rows total:     500\n",
            "\n",
            "Processing table ... <PROCEDURE_OCCURRENCE>\n",
            "==============\n",
            "Rows total:     500\n",
            "\n",
            "Processing table ... <VISIT_OCCURRENCE>\n",
            "==============\n",
            "Rows total:     500\n",
            "\n",
            "==============\n",
            "Individuals total:     500\n",
            "\n"
          ]
        }
      ],
      "source": [
        "!bin/convert-pheno -iomop t/omop2bff/in/omop_cdm_eunomia.sql -obff omop_individuals.json --out-dir /content --sql2csv --verbose -O"
      ]
    },
    {
      "cell_type": "markdown",
      "metadata": {
        "id": "UlSsZLLwy0s-"
      },
      "source": [
        "And voila...now you have a bunch of `csv` files inside `/content`"
      ]
    },
    {
      "cell_type": "markdown",
      "metadata": {
        "id": "7_kCcs0SY2IO"
      },
      "source": [
        "The tables `PERSON` and `CONCEPT` are always read, but it is possible to process specific tables by using the option `--omop-tables`. Let's process only the table `DRUG_EXPOSURE`:\n"
      ]
    },
    {
      "cell_type": "code",
      "execution_count": 30,
      "metadata": {
        "colab": {
          "base_uri": "https://localhost:8080/"
        },
        "id": "ZG7BUmwQZLx0",
        "outputId": "15b76347-841b-4b57-d9e1-3c4b7363b556"
      },
      "outputs": [
        {
          "output_type": "stream",
          "name": "stdout",
          "text": [
            "\u001b[1m\u001b[36m****************************************\n",
            "*  Phenotypic Data Model Convert Tool  *\n",
            "*          - CONVERT-PHENO -           *\n",
            "*            Version: 0.12             *\n",
            "*   (C) 2022-2023 Manuel Rueda, CNAG   *\n",
            "*       The Artistic License 2.0       *\n",
            "****************************************\n",
            "\u001b[0m\n",
            "\u001b[1m\u001b[34m==== METHOD: <omop2bff> ====\n",
            "Processing: <t/omop2bff/in/omop_cdm_eunomia.sql>\n",
            "\u001b[1m\u001b[32mWriting </content/omop_individuals_drug_exposure.json> file\n",
            "\u001b[0m\n",
            "Processing table ... <CONCEPT>\n",
            "==============\n",
            "Rows total:     444\n",
            "\n",
            "Processing table ... <DRUG_EXPOSURE>\n",
            "==============\n",
            "Rows total:     500\n",
            "\n",
            "Processing table ... <PERSON>\n",
            "==============\n",
            "Rows total:     500\n",
            "\n",
            "==============\n",
            "Individuals total:     500\n",
            "\n"
          ]
        }
      ],
      "source": [
        "!bin/convert-pheno -iomop t/omop2bff/in/omop_cdm_eunomia.sql -obff omop_individuals_drug_exposure.json --omop-tables DRUG_EXPOSURE --out-dir /content --verbose"
      ]
    },
    {
      "cell_type": "markdown",
      "metadata": {
        "id": "ieGQmbWEwzG7"
      },
      "source": [
        "## REDCap to BFF"
      ]
    },
    {
      "cell_type": "markdown",
      "metadata": {
        "id": "5Blb4yXF6HNd"
      },
      "source": [
        "Finally we're going to convert REDCap to BFF. This conversion is more complex and it needs more input files.\n",
        "\n",
        "Apart from the input `-iredcap` we'll be using the options:\n",
        "\n",
        "* `--redcap-dictionary`\n",
        "* `--mapping-file`"
      ]
    },
    {
      "cell_type": "code",
      "execution_count": 31,
      "metadata": {
        "colab": {
          "base_uri": "https://localhost:8080/"
        },
        "id": "HykP1fyHrk3e",
        "outputId": "a96c7f49-d275-4588-c1d9-e440768006e8"
      },
      "outputs": [
        {
          "output_type": "stream",
          "name": "stdout",
          "text": [
            "\u001b[1m\u001b[36m****************************************\n",
            "*  Phenotypic Data Model Convert Tool  *\n",
            "*          - CONVERT-PHENO -           *\n",
            "*            Version: 0.12             *\n",
            "*   (C) 2022-2023 Manuel Rueda, CNAG   *\n",
            "*       The Artistic License 2.0       *\n",
            "****************************************\n",
            "\u001b[0m\n",
            "\u001b[1m\u001b[34m==== METHOD: <redcap2bff> ====\n",
            "Processing: <t/redcap2bff/in/redcap_data.csv>\n",
            "\u001b[1m\u001b[32mWriting </content/redcap_individuals.json> file\n",
            "\u001b[0m\n"
          ]
        }
      ],
      "source": [
        "!bin/convert-pheno -iredcap t/redcap2bff/in/redcap_data.csv -obff redcap_individuals.json --redcap-dictionary t/redcap2bff/in/redcap_dictionary.csv --mapping-file  t/redcap2bff/in/redcap_mapping.yaml --out-dir /content --verbose"
      ]
    },
    {
      "cell_type": "markdown",
      "metadata": {
        "id": "1g9n7f4iuCII"
      },
      "source": [
        "Awesome! Let's take a look to the data:\n",
        "\n",
        "\n"
      ]
    },
    {
      "cell_type": "code",
      "execution_count": 32,
      "metadata": {
        "colab": {
          "base_uri": "https://localhost:8080/",
          "height": 6021
        },
        "id": "yAzCj1-ok4rR",
        "outputId": "1c8ccd82-92dd-4a3c-ecb2-7a1ea65ca7fc"
      },
      "outputs": [
        {
          "output_type": "execute_result",
          "data": {
            "text/plain": [
              "                                            diseases  \\\n",
              "0  [{'ageOfOnset': {'ageRange': {'end': {'iso8601...   \n",
              "\n",
              "                                     ethnicity  \\\n",
              "0  {'id': 'NCIT:C41261', 'label': 'Caucasian'}   \n",
              "\n",
              "                                           exposures                id  \\\n",
              "0  [{'ageAtExposure': {'age': {'iso8601duration':...  107:week_0_arm_1   \n",
              "\n",
              "                                                info  \\\n",
              "0  {'age': {'ageRange': {'end': {'iso8601duration...   \n",
              "\n",
              "                           interventionsOrProcedures  \\\n",
              "0  [{'ageAtProcedure': {'age': {'iso8601duration'...   \n",
              "\n",
              "                                            measures  \\\n",
              "0  [{'assayCode': {'id': 'NCIT:C51948', 'label': ...   \n",
              "\n",
              "                                  phenotypicFeatures  \\\n",
              "0  [{'excluded': True, 'featureType': {'id': 'NCI...   \n",
              "\n",
              "                                      sex  \\\n",
              "0  {'id': 'NCIT:C20197', 'label': 'Male'}   \n",
              "\n",
              "                                          treatments  \n",
              "0  [{'_info': {'dose': None, 'drug': 'budesonide'...  "
            ],
            "text/html": [
              "\n",
              "  <div id=\"df-508a43a0-581f-4b73-ad64-4f0c5940f09d\" class=\"colab-df-container\">\n",
              "    <div>\n",
              "<style scoped>\n",
              "    .dataframe tbody tr th:only-of-type {\n",
              "        vertical-align: middle;\n",
              "    }\n",
              "\n",
              "    .dataframe tbody tr th {\n",
              "        vertical-align: top;\n",
              "    }\n",
              "\n",
              "    .dataframe thead th {\n",
              "        text-align: right;\n",
              "    }\n",
              "</style>\n",
              "<table border=\"1\" class=\"dataframe\">\n",
              "  <thead>\n",
              "    <tr style=\"text-align: right;\">\n",
              "      <th></th>\n",
              "      <th>diseases</th>\n",
              "      <th>ethnicity</th>\n",
              "      <th>exposures</th>\n",
              "      <th>id</th>\n",
              "      <th>info</th>\n",
              "      <th>interventionsOrProcedures</th>\n",
              "      <th>measures</th>\n",
              "      <th>phenotypicFeatures</th>\n",
              "      <th>sex</th>\n",
              "      <th>treatments</th>\n",
              "    </tr>\n",
              "  </thead>\n",
              "  <tbody>\n",
              "    <tr>\n",
              "      <th>0</th>\n",
              "      <td>[{'ageOfOnset': {'ageRange': {'end': {'iso8601...</td>\n",
              "      <td>{'id': 'NCIT:C41261', 'label': 'Caucasian'}</td>\n",
              "      <td>[{'ageAtExposure': {'age': {'iso8601duration':...</td>\n",
              "      <td>107:week_0_arm_1</td>\n",
              "      <td>{'age': {'ageRange': {'end': {'iso8601duration...</td>\n",
              "      <td>[{'ageAtProcedure': {'age': {'iso8601duration'...</td>\n",
              "      <td>[{'assayCode': {'id': 'NCIT:C51948', 'label': ...</td>\n",
              "      <td>[{'excluded': True, 'featureType': {'id': 'NCI...</td>\n",
              "      <td>{'id': 'NCIT:C20197', 'label': 'Male'}</td>\n",
              "      <td>[{'_info': {'dose': None, 'drug': 'budesonide'...</td>\n",
              "    </tr>\n",
              "  </tbody>\n",
              "</table>\n",
              "</div>\n",
              "    <div class=\"colab-df-buttons\">\n",
              "\n",
              "  <div class=\"colab-df-container\">\n",
              "    <button class=\"colab-df-convert\" onclick=\"convertToInteractive('df-508a43a0-581f-4b73-ad64-4f0c5940f09d')\"\n",
              "            title=\"Convert this dataframe to an interactive table.\"\n",
              "            style=\"display:none;\">\n",
              "\n",
              "  <svg xmlns=\"http://www.w3.org/2000/svg\" height=\"24px\" viewBox=\"0 -960 960 960\">\n",
              "    <path d=\"M120-120v-720h720v720H120Zm60-500h600v-160H180v160Zm220 220h160v-160H400v160Zm0 220h160v-160H400v160ZM180-400h160v-160H180v160Zm440 0h160v-160H620v160ZM180-180h160v-160H180v160Zm440 0h160v-160H620v160Z\"/>\n",
              "  </svg>\n",
              "    </button>\n",
              "\n",
              "  <style>\n",
              "    .colab-df-container {\n",
              "      display:flex;\n",
              "      gap: 12px;\n",
              "    }\n",
              "\n",
              "    .colab-df-convert {\n",
              "      background-color: #E8F0FE;\n",
              "      border: none;\n",
              "      border-radius: 50%;\n",
              "      cursor: pointer;\n",
              "      display: none;\n",
              "      fill: #1967D2;\n",
              "      height: 32px;\n",
              "      padding: 0 0 0 0;\n",
              "      width: 32px;\n",
              "    }\n",
              "\n",
              "    .colab-df-convert:hover {\n",
              "      background-color: #E2EBFA;\n",
              "      box-shadow: 0px 1px 2px rgba(60, 64, 67, 0.3), 0px 1px 3px 1px rgba(60, 64, 67, 0.15);\n",
              "      fill: #174EA6;\n",
              "    }\n",
              "\n",
              "    .colab-df-buttons div {\n",
              "      margin-bottom: 4px;\n",
              "    }\n",
              "\n",
              "    [theme=dark] .colab-df-convert {\n",
              "      background-color: #3B4455;\n",
              "      fill: #D2E3FC;\n",
              "    }\n",
              "\n",
              "    [theme=dark] .colab-df-convert:hover {\n",
              "      background-color: #434B5C;\n",
              "      box-shadow: 0px 1px 3px 1px rgba(0, 0, 0, 0.15);\n",
              "      filter: drop-shadow(0px 1px 2px rgba(0, 0, 0, 0.3));\n",
              "      fill: #FFFFFF;\n",
              "    }\n",
              "  </style>\n",
              "\n",
              "    <script>\n",
              "      const buttonEl =\n",
              "        document.querySelector('#df-508a43a0-581f-4b73-ad64-4f0c5940f09d button.colab-df-convert');\n",
              "      buttonEl.style.display =\n",
              "        google.colab.kernel.accessAllowed ? 'block' : 'none';\n",
              "\n",
              "      async function convertToInteractive(key) {\n",
              "        const element = document.querySelector('#df-508a43a0-581f-4b73-ad64-4f0c5940f09d');\n",
              "        const dataTable =\n",
              "          await google.colab.kernel.invokeFunction('convertToInteractive',\n",
              "                                                    [key], {});\n",
              "        if (!dataTable) return;\n",
              "\n",
              "        const docLinkHtml = 'Like what you see? Visit the ' +\n",
              "          '<a target=\"_blank\" href=https://colab.research.google.com/notebooks/data_table.ipynb>data table notebook</a>'\n",
              "          + ' to learn more about interactive tables.';\n",
              "        element.innerHTML = '';\n",
              "        dataTable['output_type'] = 'display_data';\n",
              "        await google.colab.output.renderOutput(dataTable, element);\n",
              "        const docLink = document.createElement('div');\n",
              "        docLink.innerHTML = docLinkHtml;\n",
              "        element.appendChild(docLink);\n",
              "      }\n",
              "    </script>\n",
              "  </div>\n",
              "\n",
              "    </div>\n",
              "  </div>\n"
            ],
            "application/vnd.google.colaboratory.module+javascript": "\n      import \"https://ssl.gstatic.com/colaboratory/data_table/881c4a0d49046431/data_table.js\";\n\n      const table = window.createDataTable({\n        data: [[{\n            'v': 0,\n            'f': \"0\",\n        },\n[\"{'ageOfOnset': {'ageRange': {'end': {'iso8601duration': 'P9Y'}, 'start': {'iso8601duration': 'P0Y'}}}, 'diseaseCode': {'id': 'NCIT:C3138', 'label': 'Inflammatory Bowel Disease'}, 'familyHistory': False, 'severity': {'id': 'NCIT:NA0000', 'label': 'NA'}, 'stage': {'id': 'NCIT:NA0000', 'label': 'NA'}}\"],\n\"{'id': 'NCIT:C41261', 'label': 'Caucasian'}\",\n[\"{'ageAtExposure': {'age': {'iso8601duration': 'P999Y'}}, 'date': '1900-01-01', 'duration': 'P999Y', 'exposureCode': {'id': 'NCIT:C2190', 'label': 'Alcohol'}, 'unit': {'id': 'NCIT:C17998', 'label': 'Unknown'}, 'value': 4}\", \"{'ageAtExposure': {'age': {'iso8601duration': 'P999Y'}}, 'date': '1900-01-01', 'duration': 'P999Y', 'exposureCode': {'id': 'NCIT:C154329', 'label': 'Smoking'}, 'unit': {'id': 'NCIT:C65108', 'label': 'Never Smoker'}, 'value': 0}\"],\n\"107:week_0_arm_1\",\n\"{'age': {'ageRange': {'end': {'iso8601duration': 'P29Y'}, 'start': {'iso8601duration': 'P25Y'}}}, 'consent': {'Field Label': 'Patient consented to BFU+/CED?', 'Field Note': '', 'Field Type': 'yesno', 'value': 1}, 'consent_date': {'Field Label': 'Date of consent', 'Field Note': '', 'Field Type': 'text', 'value': '25.10.2020'}, 'consent_devices': {'Field Label': 'Patient consented to device studies?', 'Field Note': '', 'Field Type': 'yesno', 'value': 0}, 'consent_noneu': {'Field Label': 'Patient consented to transfer of data/samples to non-EU countries?', 'Field Note': '', 'Field Type': 'yesno', 'value': 0}, 'consent_recontact': {'Field Label': 'Patient consented for the possibility to be recontacted for study purposes?', 'Field Note': '', 'Field Type': 'yesno', 'value': 1}, 'consent_week2_endo': {'Field Label': 'Patient consented for endoscopy at week 2?', 'Field Note': '', 'Field Type': 'yesno', 'value': 0}, 'consents_and_demographics_complete': {'Field Label': None, 'Field Note': None, 'Field Type': None, 'value': 2}, 'diet': 'Unknown', 'education': 'high-school diploma (Fachhochschulreife/Abitur)', 'metaData': {'created': '2023-08-30T15:58:32Z', 'createdBy': 'convert-pheno-user', 'externalReferences': [{'description': 'Observational Health Data Sciences and Informatics (OHDSI): Opportunities for Observational Researchers', 'id': 'PMID: 26262116', 'reference': 'https://www.ncbi.nlm.nih.gov/pmc/articles/PMC4815923'}], 'phenopacketSchemaVersion': '2.0', 'resources': [{'id': 'ICD10', 'iriPrefix': 'https://icd.who.int/browse10/2019/en#/', 'name': 'International Statistical Classification of Diseases and Related Health Problems 10th Revision', 'namespacePrefix': 'ICD10', 'url': 'https://icd.who.int/browse10/2019/en#', 'version': '2019'}, {'id': 'NCIT', 'iriPrefix': 'http://purl.obolibrary.org/obo/NCIT_', 'name': 'NCI Thesaurus', 'namespacePrefix': 'NCIT', 'url': 'http://purl.obolibrary.org/obo/ncit.owl', 'version': '22.03d'}, {'id': 'Athena-OHDSI', 'iriPrefix': 'http://www.fakeurl.com/OHDSI_', 'name': 'Athena-OHDSI', 'namespacePrefix': 'OHDSI', 'url': 'https://athena.ohdsi.org', 'version': 'v5.3.1'}], 'submittedBy': 'convert-pheno-user'}, 'redcap_event_name': 'week_0_arm_1', 'study_id': '107'}\",\n[\"{'ageAtProcedure': {'age': {'iso8601duration': 'P999Y'}}, 'bodySite': {'id': 'NCIT:C12736', 'label': 'intestine'}, 'dateOfProcedure': '2021-02-01', 'procedureCode': {'id': 'NCIT:C157823', 'label': 'Colon Resection'}}\", \"{'ageAtProcedure': {'age': {'iso8601duration': 'P999Y'}}, 'bodySite': {'id': 'NCIT:C12736', 'label': 'intestine'}, 'dateOfProcedure': '2021-02-01', 'procedureCode': {'id': 'NCIT:NA0000', 'label': 'NA'}}\"],\n[\"{'assayCode': {'id': 'NCIT:C51948', 'label': 'Leukocyte Count'}, 'date': '1900-01-01', 'measurementValue': {'quantity': {'referenceRange': {'high': 200, 'low': 0, 'unit': {'id': 'NCIT:C67242', 'label': 'Cells per Microliter'}}, 'unit': {'id': 'NCIT:C67242', 'label': 'Cells per Microliter'}, 'value': 8.91}}, 'notes': 'leucocytes /// Field Label=Leucocytes /// Field Note=xx.xx /10^-9 l /// Field Type=text', 'procedure': {'procedureCode': {'id': 'NCIT:C27232', 'label': 'Blood Test Result'}}}\", \"{'assayCode': {'id': 'NCIT:C64848', 'label': 'Hemoglobin Measurement'}, 'date': '1900-01-01', 'measurementValue': {'quantity': {'referenceRange': {'high': 20, 'low': 0, 'unit': {'id': 'NCIT:C64783', 'label': 'Gram per Deciliter'}}, 'unit': {'id': 'NCIT:C64783', 'label': 'Gram per Deciliter'}, 'value': 11.2}}, 'notes': 'hemoglobin /// Field Label=Hemoglobin /// Field Note=xx.x g/dl /// Field Type=text', 'procedure': {'procedureCode': {'id': 'NCIT:C27232', 'label': 'Blood Test Result'}}}\", \"{'assayCode': {'id': 'NCIT:C64796', 'label': 'Hematocrit Measurement'}, 'date': '1900-01-01', 'measurementValue': {'quantity': {'referenceRange': {'high': 100, 'low': 0, 'unit': {'id': 'NCIT:C25613', 'label': 'Percentage'}}, 'unit': {'id': 'NCIT:C25613', 'label': 'Percentage'}, 'value': 34}}, 'notes': 'hematokrit /// Field Label=Hematokrit /// Field Note=xx.x % /// Field Type=text', 'procedure': {'procedureCode': {'id': 'NCIT:C27232', 'label': 'Blood Test Result'}}}\", \"{'assayCode': {'id': 'NCIT:C51951', 'label': 'Platelet Count'}, 'date': '1900-01-01', 'measurementValue': {'quantity': {'referenceRange': {'high': 2000, 'low': 0, 'unit': {'id': 'NCIT:C67242', 'label': 'Cells per Microliter'}}, 'unit': {'id': 'NCIT:C67242', 'label': 'Cells per Microliter'}, 'value': 442}}, 'notes': 'thrombocytes /// Field Label=Thrombocytes /// Field Note=xxxx /10^-9 l /// Field Type=text', 'procedure': {'procedureCode': {'id': 'NCIT:C27232', 'label': 'Blood Test Result'}}}\", \"{'assayCode': {'id': 'NCIT:C64547', 'label': 'Creatinine Measurement'}, 'date': '1900-01-01', 'measurementValue': {'quantity': {'referenceRange': {'high': 10000, 'low': 0, 'unit': {'id': 'NCIT:C48508', 'label': 'Micromole per Liter'}}, 'unit': {'id': 'NCIT:C48508', 'label': 'Micromole per Liter'}, 'value': 76}}, 'notes': 'creatinine /// Field Label=Creatinine /// Field Note=xxx \\u00c2\\u00b5mol/l /// Field Type=text', 'procedure': {'procedureCode': {'id': 'NCIT:C27232', 'label': 'Blood Test Result'}}}\", \"{'assayCode': {'id': 'NCIT:C90505', 'label': 'Glomerular Filtration Rate'}, 'date': '1900-01-01', 'measurementValue': {'quantity': {'referenceRange': {'high': 200, 'low': 0, 'unit': {'id': 'NCIT:C98734', 'label': 'Glomerular Filtration Rate Adjusted for BSA'}}, 'unit': {'id': 'NCIT:C98734', 'label': 'Glomerular Filtration Rate Adjusted for BSA'}, 'value': 123}}, 'notes': 'gfr /// Field Label=GFR CKD-Epi /// Field Note=xxx ml/min/1.73 /// Field Type=text', 'procedure': {'procedureCode': {'id': 'NCIT:C27232', 'label': 'Blood Test Result'}}}\", \"{'assayCode': {'id': 'NCIT:C38037', 'label': 'Total Bilirubin Measurement'}, 'date': '1900-01-01', 'measurementValue': {'quantity': {'referenceRange': {'high': 10000, 'low': 0, 'unit': {'id': 'NCIT:C48508', 'label': 'Micromole per Liter'}}, 'unit': {'id': 'NCIT:C48508', 'label': 'Micromole per Liter'}, 'value': 3.5}}, 'notes': 'bilirubin /// Field Label=Bilirubin /// Field Note=xxx.x \\u00c2\\u00b5mol/l /// Field Type=text', 'procedure': {'procedureCode': {'id': 'NCIT:C27232', 'label': 'Blood Test Result'}}}\", \"{'assayCode': {'id': 'NCIT:C55098', 'label': 'Serum Glutamic Pyruvic Transaminase, CTCAE'}, 'date': '1900-01-01', 'measurementValue': {'quantity': {'referenceRange': {'high': 10000, 'low': 0, 'unit': {'id': 'NCIT:C67376', 'label': 'International Unit per Liter'}}, 'unit': {'id': 'NCIT:C67376', 'label': 'International Unit per Liter'}, 'value': 18}}, 'notes': 'gpt /// Field Label=GPT /// Field Note=xx.x U/l /// Field Type=text', 'procedure': {'procedureCode': {'id': 'NCIT:C27232', 'label': 'Blood Test Result'}}}\", \"{'assayCode': {'id': 'NCIT:C61025', 'label': 'Serum Gamma Glutamyl Transpeptidase Measurement'}, 'date': '1900-01-01', 'measurementValue': {'quantity': {'referenceRange': {'high': 10000, 'low': 0, 'unit': {'id': 'NCIT:C67376', 'label': 'International Unit per Liter'}}, 'unit': {'id': 'NCIT:C67376', 'label': 'International Unit per Liter'}, 'value': 19}}, 'notes': 'ggt /// Field Label=gammaGT /// Field Note=xx.x U/l /// Field Type=text', 'procedure': {'procedureCode': {'id': 'NCIT:C27232', 'label': 'Blood Test Result'}}}\", \"{'assayCode': {'id': 'NCIT:C117748', 'label': 'Lipase Measurement'}, 'date': '1900-01-01', 'measurementValue': {'quantity': {'referenceRange': {'high': 10000, 'low': 0, 'unit': {'id': 'NCIT:C67376', 'label': 'International Unit per Liter'}}, 'unit': {'id': 'NCIT:C67376', 'label': 'International Unit per Liter'}, 'value': 46}}, 'notes': 'lipase /// Field Label=Lipase /// Field Note=xx.x U/l /// Field Type=text', 'procedure': {'procedureCode': {'id': 'NCIT:C27232', 'label': 'Blood Test Result'}}}\", \"{'assayCode': {'id': 'NCIT:C64548', 'label': 'C-Reactive Protein Measurement'}, 'date': '1900-01-01', 'measurementValue': {'quantity': {'referenceRange': {'high': 1000, 'low': 0, 'unit': {'id': 'NCIT:C85710', 'label': 'Milligram per Liter per Milligram'}}, 'unit': {'id': 'NCIT:C85710', 'label': 'Milligram per Liter per Milligram'}, 'value': 1.77}}, 'notes': 'crp /// Field Label=CRP /// Field Note=xxx.x mg/l /// Field Type=text', 'procedure': {'procedureCode': {'id': 'NCIT:C27232', 'label': 'Blood Test Result'}}}\", \"{'assayCode': {'id': 'NCIT:C74679', 'label': 'Iron Measurement'}, 'date': '1900-01-01', 'measurementValue': {'quantity': {'referenceRange': {'high': 1000, 'low': 0, 'unit': {'id': 'NCIT:C48508', 'label': 'Micromole per Liter'}}, 'unit': {'id': 'NCIT:C48508', 'label': 'Micromole per Liter'}, 'value': 3.7}}, 'notes': 'iron /// Field Label=Iron /// Field Note=xx.x \\u00c2\\u00b5mol/l /// Field Type=text', 'procedure': {'procedureCode': {'id': 'NCIT:C27232', 'label': 'Blood Test Result'}}}\", \"{'assayCode': {'id': 'NCIT:C20451', 'label': 'Interleukin-6'}, 'date': '1900-01-01', 'measurementValue': {'quantity': {'referenceRange': {'high': 10000, 'low': 0, 'unit': {'id': 'NCIT:C67327', 'label': 'Nanogram per Liter'}}, 'unit': {'id': 'NCIT:C67327', 'label': 'Nanogram per Liter'}, 'value': 2.3}}, 'notes': 'il6 /// Field Label=IL-6 /// Field Note=xxxx.x ng/l /// Field Type=text', 'procedure': {'procedureCode': {'id': 'NCIT:C27232', 'label': 'Blood Test Result'}}}\"],\n[\"{'excluded': True, 'featureType': {'id': 'NCIT:C28397', 'label': 'Asthma'}, 'notes': 'comorb_asthma /// Field Label=Comorbidities - Asthma /// Field Note= /// Field Type=yesno'}\", \"{'excluded': True, 'featureType': {'id': 'NCIT:C3199', 'label': 'Chronic Obstructive Pulmonary Disease'}, 'notes': 'comorb_copd /// Field Label=Comorbidities - COPD /// Field Note= /// Field Type=yesno'}\", \"{'excluded': True, 'featureType': {'id': 'NCIT:C3243', 'label': 'Multiple Sclerosis'}, 'notes': 'comorb_ms /// Field Label=Comorbidities - demyelating disease/multiple sclerosis /// Field Note= /// Field Type=yesno'}\", \"{'excluded': True, 'featureType': {'id': 'NCIT:C3201', 'label': 'Systemic Lupus Erythematosus'}, 'notes': 'comorb_sle /// Field Label=Comorbidities - systemic lupus erythematosus /// Field Note= /// Field Type=yesno'}\", \"{'excluded': True, 'featureType': {'id': 'NCIT:C2884', 'label': 'Rheumatoid Arthritis'}, 'notes': 'comorb_ra /// Field Label=Comorbidities - rheumatoid arthritis /// Field Note= /// Field Type=yesno'}\", \"{'excluded': True, 'featureType': {'id': 'NCIT:C3346', 'label': 'Psoriasis'}, 'notes': 'comorb_pso /// Field Label=Comorbidities - psoriasis /// Field Note= /// Field Type=yesno'}\", \"{'excluded': True, 'featureType': {'id': 'NCIT:C3001', 'label': 'Eczema'}, 'notes': 'comorb_ad /// Field Label=Comorbidities - atopic dermatitis /// Field Note= /// Field Type=yesno'}\", \"{'excluded': True, 'featureType': {'id': 'NCIT:C19700', 'label': 'Cancer Patient'}, 'notes': 'comorb_cancer /// Field Label=Comorbidities - cancer /// Field Note= /// Field Type=yesno'}\", \"{'excluded': True, 'featureType': {'id': 'NCIT:C3117', 'label': 'Hypertension'}, 'notes': 'comorb_hypertension /// Field Label=Comorbidities - hypertension /// Field Note= /// Field Type=yesno'}\", \"{'excluded': True, 'featureType': {'id': 'NCIT:C2985', 'label': 'Diabetes Mellitus'}, 'notes': 'comorb_diabetes /// Field Label=Comorbidities - diabetes mellitus /// Field Note= /// Field Type=yesno'}\", \"{'excluded': True, 'featureType': {'id': 'NCIT:C80385', 'label': 'Dyslipidemia'}, 'notes': 'comorb_lipids /// Field Label=Comorbidities - Hyper-/dyslipidemia /// Field Note= /// Field Type=yesno'}\", \"{'excluded': True, 'featureType': {'id': 'NCIT:C3390', 'label': 'Stroke'}, 'notes': 'comorb_stroke /// Field Label=Comorbidities - Stroke /// Field Note= /// Field Type=yesno'}\", \"{'excluded': True, 'featureType': {'id': 'NCIT:NA0000', 'label': 'NA'}, 'notes': 'comorb_other_ai /// Field Label=Comorbidities - other autoimmune disease /// Field Note= /// Field Type=yesno'}\", \"{'excluded': True, 'featureType': {'id': 'NCIT:C152105', 'label': 'Primary Immunodeficiency Syndrome'}, 'notes': 'immunodeficiency /// Field Label=Primary immunodeficiency known? /// Field Note= /// Field Type=yesno'}\", \"{'featureType': {'id': 'NCIT:NA0000', 'label': 'NA'}, 'notes': 'rectal_bleeding /// Field Label=Rectal bleeding score /// Field Note= /// Field Type=radio'}\"],\n\"{'id': 'NCIT:C20197', 'label': 'Male'}\",\n[\"{'_info': {'dose': None, 'drug': 'budesonide', 'drug_name': 'budesonide', 'duration': None, 'field': 'budesonide_oral_status', 'route': 'oral', 'start': None, 'status': 'former treatment', 'value': 2}, 'ageAtOnset': {'age': {'iso8601duration': 'P999Y'}}, 'cumulativeDose': {'unit': {'id': 'NCIT:NA0000', 'label': 'NA'}, 'value': -1}, 'doseIntervals': [], 'routeOfAdministration': {'id': 'NCIT:C38288', 'label': 'Oral Route of Administration'}, 'treatmentCode': {'id': 'NCIT:C1027', 'label': 'Budesonide'}}\", \"{'_info': {'dose': None, 'drug': 'budesonide', 'drug_name': 'budesonide', 'duration': None, 'field': 'budesonide_rectal_status', 'route': 'rectal', 'start': None, 'status': 'never treated', 'value': 1}, 'ageAtOnset': {'age': {'iso8601duration': 'P999Y'}}, 'cumulativeDose': {'unit': {'id': 'NCIT:NA0000', 'label': 'NA'}, 'value': -1}, 'doseIntervals': [], 'routeOfAdministration': {'id': 'NCIT:C38295', 'label': 'Rectal Route of Administration'}, 'treatmentCode': {'id': 'NCIT:C1027', 'label': 'Budesonide'}}\", \"{'_info': {'dose': None, 'drug': 'prednisolone', 'drug_name': 'prednisolone', 'duration': None, 'field': 'prednisolone_status', 'route': 'oral', 'start': None, 'status': 'current treatment', 'value': 3}, 'ageAtOnset': {'age': {'iso8601duration': 'P999Y'}}, 'cumulativeDose': {'unit': {'id': 'NCIT:NA0000', 'label': 'NA'}, 'value': -1}, 'doseIntervals': [], 'routeOfAdministration': {'id': 'NCIT:C38288', 'label': 'Oral Route of Administration'}, 'treatmentCode': {'id': 'NCIT:C769', 'label': 'Prednisolone'}}\", \"{'_info': {'dose': None, 'drug': 'asa', 'drug_name': 'aspirin', 'duration': None, 'field': 'asa_oral_status', 'route': 'oral', 'start': None, 'status': 'former treatment', 'value': 2}, 'ageAtOnset': {'age': {'iso8601duration': 'P999Y'}}, 'cumulativeDose': {'unit': {'id': 'NCIT:NA0000', 'label': 'NA'}, 'value': -1}, 'doseIntervals': [], 'routeOfAdministration': {'id': 'NCIT:C38288', 'label': 'Oral Route of Administration'}, 'treatmentCode': {'id': 'NCIT:C287', 'label': 'Aspirin'}}\", \"{'_info': {'dose': None, 'drug': 'asa', 'drug_name': 'aspirin', 'duration': None, 'field': 'asa_rectal_status', 'route': 'rectal', 'start': None, 'status': 'never treated', 'value': 1}, 'ageAtOnset': {'age': {'iso8601duration': 'P999Y'}}, 'cumulativeDose': {'unit': {'id': 'NCIT:NA0000', 'label': 'NA'}, 'value': -1}, 'doseIntervals': [], 'routeOfAdministration': {'id': 'NCIT:C38295', 'label': 'Rectal Route of Administration'}, 'treatmentCode': {'id': 'NCIT:C287', 'label': 'Aspirin'}}\", \"{'_info': {'dose': None, 'drug': 'aza', 'drug_name': 'azathioprine', 'duration': None, 'field': 'aza_status', 'route': 'oral', 'start': None, 'status': 'never treated', 'value': 1}, 'ageAtOnset': {'age': {'iso8601duration': 'P999Y'}}, 'cumulativeDose': {'unit': {'id': 'NCIT:NA0000', 'label': 'NA'}, 'value': -1}, 'doseIntervals': [], 'routeOfAdministration': {'id': 'NCIT:C38288', 'label': 'Oral Route of Administration'}, 'treatmentCode': {'id': 'NCIT:C290', 'label': 'Azathioprine'}}\", \"{'_info': {'dose': None, 'drug': 'mtx', 'drug_name': 'methotrexate', 'duration': None, 'field': 'mtx_status', 'route': 'oral', 'start': None, 'status': 'never treated', 'value': 1}, 'ageAtOnset': {'age': {'iso8601duration': 'P999Y'}}, 'cumulativeDose': {'unit': {'id': 'NCIT:NA0000', 'label': 'NA'}, 'value': -1}, 'doseIntervals': [], 'routeOfAdministration': {'id': 'NCIT:C38288', 'label': 'Oral Route of Administration'}, 'treatmentCode': {'id': 'NCIT:C642', 'label': 'Methotrexate'}}\", \"{'_info': {'dose': None, 'drug': 'mp', 'drug_name': 'mercaptopurine', 'duration': None, 'field': 'mp_status', 'route': 'oral', 'start': None, 'status': 'never treated', 'value': 1}, 'ageAtOnset': {'age': {'iso8601duration': 'P999Y'}}, 'cumulativeDose': {'unit': {'id': 'NCIT:NA0000', 'label': 'NA'}, 'value': -1}, 'doseIntervals': [], 'routeOfAdministration': {'id': 'NCIT:C38288', 'label': 'Oral Route of Administration'}, 'treatmentCode': {'id': 'NCIT:C195', 'label': 'Mercaptopurine'}}\"]]],\n        columns: [[\"number\", \"index\"], [\"string\", \"diseases\"], [\"string\", \"ethnicity\"], [\"string\", \"exposures\"], [\"string\", \"id\"], [\"string\", \"info\"], [\"string\", \"interventionsOrProcedures\"], [\"string\", \"measures\"], [\"string\", \"phenotypicFeatures\"], [\"string\", \"sex\"], [\"string\", \"treatments\"]],\n        columnOptions: [{\"width\": \"1px\", \"className\": \"index_column\"}],\n        rowsPerPage: 25,\n        helpUrl: \"https://colab.research.google.com/notebooks/data_table.ipynb\",\n        suppressOutputScrolling: true,\n        minimumWidth: undefined,\n      });\n\n      function appendQuickchartButton(parentElement) {\n        let quickchartButtonContainerElement = document.createElement('div');\n        quickchartButtonContainerElement.innerHTML = `\n<div id=\"df-46015592-5f01-4269-8cae-4565f3ddc089\">\n  <button class=\"colab-df-quickchart\" onclick=\"quickchart('df-46015592-5f01-4269-8cae-4565f3ddc089')\"\n            title=\"Suggest charts.\"\n            style=\"display:none;\">\n    \n<svg xmlns=\"http://www.w3.org/2000/svg\" height=\"24px\"viewBox=\"0 0 24 24\"\n     width=\"24px\">\n    <g>\n        <path d=\"M19 3H5c-1.1 0-2 .9-2 2v14c0 1.1.9 2 2 2h14c1.1 0 2-.9 2-2V5c0-1.1-.9-2-2-2zM9 17H7v-7h2v7zm4 0h-2V7h2v10zm4 0h-2v-4h2v4z\"/>\n    </g>\n</svg>\n  </button>\n  \n<style>\n  .colab-df-quickchart {\n    background-color: #E8F0FE;\n    border: none;\n    border-radius: 50%;\n    cursor: pointer;\n    display: none;\n    fill: #1967D2;\n    height: 32px;\n    padding: 0 0 0 0;\n    width: 32px;\n  }\n\n  .colab-df-quickchart:hover {\n    background-color: #E2EBFA;\n    box-shadow: 0px 1px 2px rgba(60, 64, 67, 0.3), 0px 1px 3px 1px rgba(60, 64, 67, 0.15);\n    fill: #174EA6;\n  }\n\n  [theme=dark] .colab-df-quickchart {\n    background-color: #3B4455;\n    fill: #D2E3FC;\n  }\n\n  [theme=dark] .colab-df-quickchart:hover {\n    background-color: #434B5C;\n    box-shadow: 0px 1px 3px 1px rgba(0, 0, 0, 0.15);\n    filter: drop-shadow(0px 1px 2px rgba(0, 0, 0, 0.3));\n    fill: #FFFFFF;\n  }\n</style>\n\n  <script>\n    async function quickchart(key) {\n      const charts = await google.colab.kernel.invokeFunction(\n          'suggestCharts', [key], {});\n    }\n    (() => {\n      let quickchartButtonEl =\n        document.querySelector('#df-46015592-5f01-4269-8cae-4565f3ddc089 button');\n      quickchartButtonEl.style.display =\n        google.colab.kernel.accessAllowed ? 'block' : 'none';\n    })();\n  </script>\n</div>`;\n        parentElement.appendChild(quickchartButtonContainerElement);\n      }\n\n      appendQuickchartButton(table);\n    "
          },
          "metadata": {},
          "execution_count": 32
        }
      ],
      "source": [
        "import pandas as pd\n",
        "from google.colab import data_table\n",
        "data_table.enable_dataframe_formatter()\n",
        "\n",
        "# Import json\n",
        "df = pd.read_json('/content/redcap_individuals.json')\n",
        "df.head(1)"
      ]
    },
    {
      "cell_type": "markdown",
      "metadata": {
        "id": "3iihWXY0lHZj"
      },
      "source": [
        "Let's change some default parameters.\n",
        "\n",
        "This time we'll perform a `mixed` search instead of an `exact` one (default).\n",
        "\n",
        "We'll be using the option:\n",
        "\n",
        "* `--search mixed`"
      ]
    },
    {
      "cell_type": "code",
      "execution_count": 33,
      "metadata": {
        "colab": {
          "base_uri": "https://localhost:8080/"
        },
        "id": "xxijF1equWyV",
        "outputId": "86221b3d-e9fd-4f5a-f84c-ad3b53c61f27"
      },
      "outputs": [
        {
          "output_type": "stream",
          "name": "stdout",
          "text": [
            "\u001b[1m\u001b[36m****************************************\n",
            "*  Phenotypic Data Model Convert Tool  *\n",
            "*          - CONVERT-PHENO -           *\n",
            "*            Version: 0.12             *\n",
            "*   (C) 2022-2023 Manuel Rueda, CNAG   *\n",
            "*       The Artistic License 2.0       *\n",
            "****************************************\n",
            "\u001b[0m\n",
            "\u001b[1m\u001b[34m==== METHOD: <redcap2bff> ====\n",
            "Processing: <t/redcap2bff/in/redcap_data.csv>\n",
            "\u001b[1m\u001b[32mWriting </content/redcap_individuals.json> file\n",
            "\u001b[0m\n"
          ]
        }
      ],
      "source": [
        "!bin/convert-pheno -iredcap t/redcap2bff/in/redcap_data.csv -obff redcap_individuals.json --redcap-dictionary t/redcap2bff/in/redcap_dictionary.csv --mapping-file  t/redcap2bff/in/redcap_mapping.yaml --out-dir /content --search mixed --verbose -O"
      ]
    },
    {
      "cell_type": "markdown",
      "metadata": {
        "id": "5jcq7ovuugzi"
      },
      "source": [
        "And now the same but changing the similarity method from `cosine` (default) to `dice` and setting the minimum similarity from `0.8` (default) to `0.5`.\n",
        "\n",
        "We'll be using the options:\n",
        "\n",
        "* `--search mixed`\n",
        "* `--text-similarity-method dice`\n",
        "* `--min-text-similarity-score 0.5`"
      ]
    },
    {
      "cell_type": "code",
      "execution_count": 34,
      "metadata": {
        "colab": {
          "base_uri": "https://localhost:8080/"
        },
        "id": "AEo186IYvE3I",
        "outputId": "24c0d2cf-0bab-4e72-f70c-1e2e0fc47185"
      },
      "outputs": [
        {
          "output_type": "stream",
          "name": "stdout",
          "text": [
            "\u001b[1m\u001b[36m****************************************\n",
            "*  Phenotypic Data Model Convert Tool  *\n",
            "*          - CONVERT-PHENO -           *\n",
            "*            Version: 0.12             *\n",
            "*   (C) 2022-2023 Manuel Rueda, CNAG   *\n",
            "*       The Artistic License 2.0       *\n",
            "****************************************\n",
            "\u001b[0m\n",
            "\u001b[1m\u001b[34m==== METHOD: <redcap2bff> ====\n",
            "Processing: <t/redcap2bff/in/redcap_data.csv>\n",
            "\u001b[1m\u001b[32mWriting </content/redcap_individuals.json> file\n",
            "\u001b[0m\n"
          ]
        }
      ],
      "source": [
        "!bin/convert-pheno -iredcap t/redcap2bff/in/redcap_data.csv -obff redcap_individuals.json --redcap-dictionary t/redcap2bff/in/redcap_dictionary.csv --mapping-file  t/redcap2bff/in/redcap_mapping.yaml --out-dir /content --search mixed -text-similarity-method dice --min-text-similarity-score 0.5 --verbose -O"
      ]
    },
    {
      "cell_type": "markdown",
      "metadata": {
        "id": "YlBdzgj3lO3x"
      },
      "source": [
        "We'll run again the whole thing, but this time we'll be using Python's interpreter to enable interactive changes in values. We'll be only displaying the items in the array property `measures`. Each individual contains 13 rows.\n",
        "\n",
        "The code will get executed **automatically** anytime you change a value."
      ]
    },
    {
      "cell_type": "code",
      "execution_count": 35,
      "metadata": {
        "cellView": "form",
        "colab": {
          "base_uri": "https://localhost:8080/",
          "height": 963
        },
        "id": "Ony8Tektlnfz",
        "outputId": "c9aee457-0f30-40ee-a7fb-a51690f711c4"
      },
      "outputs": [
        {
          "output_type": "execute_result",
          "data": {
            "text/plain": [
              "         date                                              notes  \\\n",
              "0  1900-01-01  leucocytes /// Field Label=Leucocytes /// Fiel...   \n",
              "1  1900-01-01  hemoglobin /// Field Label=Hemoglobin /// Fiel...   \n",
              "2  1900-01-01  hematokrit /// Field Label=Hematokrit /// Fiel...   \n",
              "3  1900-01-01  thrombocytes /// Field Label=Thrombocytes /// ...   \n",
              "4  1900-01-01  creatinine /// Field Label=Creatinine /// Fiel...   \n",
              "5  1900-01-01  gfr /// Field Label=GFR CKD-Epi /// Field Note...   \n",
              "6  1900-01-01  bilirubin /// Field Label=Bilirubin /// Field ...   \n",
              "7  1900-01-01  gpt /// Field Label=GPT /// Field Note=xx.x U/...   \n",
              "8  1900-01-01  ggt /// Field Label=gammaGT /// Field Note=xx....   \n",
              "9  1900-01-01  lipase /// Field Label=Lipase /// Field Note=x...   \n",
              "\n",
              "   assayCode.id                                  assayCode.label  \\\n",
              "0   NCIT:C51948                                  Leukocyte Count   \n",
              "1   NCIT:C64848                           Hemoglobin Measurement   \n",
              "2   NCIT:C64796                           Hematocrit Measurement   \n",
              "3   NCIT:C51951                                   Platelet Count   \n",
              "4   NCIT:C64547                           Creatinine Measurement   \n",
              "5   NCIT:C90505                       Glomerular Filtration Rate   \n",
              "6   NCIT:C38037                      Total Bilirubin Measurement   \n",
              "7   NCIT:C55098       Serum Glutamic Pyruvic Transaminase, CTCAE   \n",
              "8   NCIT:C61025  Serum Gamma Glutamyl Transpeptidase Measurement   \n",
              "9  NCIT:C117748                               Lipase Measurement   \n",
              "\n",
              "   measurementValue.quantity.referenceRange.high  \\\n",
              "0                                          200.0   \n",
              "1                                           20.0   \n",
              "2                                          100.0   \n",
              "3                                         2000.0   \n",
              "4                                        10000.0   \n",
              "5                                          200.0   \n",
              "6                                        10000.0   \n",
              "7                                        10000.0   \n",
              "8                                        10000.0   \n",
              "9                                        10000.0   \n",
              "\n",
              "   measurementValue.quantity.referenceRange.low  \\\n",
              "0                                           0.0   \n",
              "1                                           0.0   \n",
              "2                                           0.0   \n",
              "3                                           0.0   \n",
              "4                                           0.0   \n",
              "5                                           0.0   \n",
              "6                                           0.0   \n",
              "7                                           0.0   \n",
              "8                                           0.0   \n",
              "9                                           0.0   \n",
              "\n",
              "  measurementValue.quantity.referenceRange.unit.id  \\\n",
              "0                                      NCIT:C67242   \n",
              "1                                      NCIT:C64783   \n",
              "2                                      NCIT:C25613   \n",
              "3                                      NCIT:C67242   \n",
              "4                                      NCIT:C48508   \n",
              "5                                      NCIT:C98734   \n",
              "6                                      NCIT:C48508   \n",
              "7                                      NCIT:C67376   \n",
              "8                                      NCIT:C67376   \n",
              "9                                      NCIT:C67376   \n",
              "\n",
              "  measurementValue.quantity.referenceRange.unit.label  \\\n",
              "0                               Cells per Microliter    \n",
              "1                                 Gram per Deciliter    \n",
              "2                                         Percentage    \n",
              "3                               Cells per Microliter    \n",
              "4                                Micromole per Liter    \n",
              "5        Glomerular Filtration Rate Adjusted for BSA    \n",
              "6                                Micromole per Liter    \n",
              "7                       International Unit per Liter    \n",
              "8                       International Unit per Liter    \n",
              "9                       International Unit per Liter    \n",
              "\n",
              "  measurementValue.quantity.unit.id  \\\n",
              "0                       NCIT:C67242   \n",
              "1                       NCIT:C64783   \n",
              "2                       NCIT:C25613   \n",
              "3                       NCIT:C67242   \n",
              "4                       NCIT:C48508   \n",
              "5                       NCIT:C98734   \n",
              "6                       NCIT:C48508   \n",
              "7                       NCIT:C67376   \n",
              "8                       NCIT:C67376   \n",
              "9                       NCIT:C67376   \n",
              "\n",
              "          measurementValue.quantity.unit.label  \\\n",
              "0                         Cells per Microliter   \n",
              "1                           Gram per Deciliter   \n",
              "2                                   Percentage   \n",
              "3                         Cells per Microliter   \n",
              "4                          Micromole per Liter   \n",
              "5  Glomerular Filtration Rate Adjusted for BSA   \n",
              "6                          Micromole per Liter   \n",
              "7                 International Unit per Liter   \n",
              "8                 International Unit per Liter   \n",
              "9                 International Unit per Liter   \n",
              "\n",
              "   measurementValue.quantity.value procedure.procedureCode.id  \\\n",
              "0                             8.91                NCIT:C27232   \n",
              "1                            11.20                NCIT:C27232   \n",
              "2                            34.00                NCIT:C27232   \n",
              "3                           442.00                NCIT:C27232   \n",
              "4                            76.00                NCIT:C27232   \n",
              "5                           123.00                NCIT:C27232   \n",
              "6                             3.50                NCIT:C27232   \n",
              "7                            18.00                NCIT:C27232   \n",
              "8                            19.00                NCIT:C27232   \n",
              "9                            46.00                NCIT:C27232   \n",
              "\n",
              "  procedure.procedureCode.label  \n",
              "0             Blood Test Result  \n",
              "1             Blood Test Result  \n",
              "2             Blood Test Result  \n",
              "3             Blood Test Result  \n",
              "4             Blood Test Result  \n",
              "5             Blood Test Result  \n",
              "6             Blood Test Result  \n",
              "7             Blood Test Result  \n",
              "8             Blood Test Result  \n",
              "9             Blood Test Result  "
            ],
            "text/html": [
              "\n",
              "  <div id=\"df-59b6b78e-a67a-4366-81df-4b2355424763\" class=\"colab-df-container\">\n",
              "    <div>\n",
              "<style scoped>\n",
              "    .dataframe tbody tr th:only-of-type {\n",
              "        vertical-align: middle;\n",
              "    }\n",
              "\n",
              "    .dataframe tbody tr th {\n",
              "        vertical-align: top;\n",
              "    }\n",
              "\n",
              "    .dataframe thead th {\n",
              "        text-align: right;\n",
              "    }\n",
              "</style>\n",
              "<table border=\"1\" class=\"dataframe\">\n",
              "  <thead>\n",
              "    <tr style=\"text-align: right;\">\n",
              "      <th></th>\n",
              "      <th>date</th>\n",
              "      <th>notes</th>\n",
              "      <th>assayCode.id</th>\n",
              "      <th>assayCode.label</th>\n",
              "      <th>measurementValue.quantity.referenceRange.high</th>\n",
              "      <th>measurementValue.quantity.referenceRange.low</th>\n",
              "      <th>measurementValue.quantity.referenceRange.unit.id</th>\n",
              "      <th>measurementValue.quantity.referenceRange.unit.label</th>\n",
              "      <th>measurementValue.quantity.unit.id</th>\n",
              "      <th>measurementValue.quantity.unit.label</th>\n",
              "      <th>measurementValue.quantity.value</th>\n",
              "      <th>procedure.procedureCode.id</th>\n",
              "      <th>procedure.procedureCode.label</th>\n",
              "    </tr>\n",
              "  </thead>\n",
              "  <tbody>\n",
              "    <tr>\n",
              "      <th>0</th>\n",
              "      <td>1900-01-01</td>\n",
              "      <td>leucocytes /// Field Label=Leucocytes /// Fiel...</td>\n",
              "      <td>NCIT:C51948</td>\n",
              "      <td>Leukocyte Count</td>\n",
              "      <td>200.0</td>\n",
              "      <td>0.0</td>\n",
              "      <td>NCIT:C67242</td>\n",
              "      <td>Cells per Microliter</td>\n",
              "      <td>NCIT:C67242</td>\n",
              "      <td>Cells per Microliter</td>\n",
              "      <td>8.91</td>\n",
              "      <td>NCIT:C27232</td>\n",
              "      <td>Blood Test Result</td>\n",
              "    </tr>\n",
              "    <tr>\n",
              "      <th>1</th>\n",
              "      <td>1900-01-01</td>\n",
              "      <td>hemoglobin /// Field Label=Hemoglobin /// Fiel...</td>\n",
              "      <td>NCIT:C64848</td>\n",
              "      <td>Hemoglobin Measurement</td>\n",
              "      <td>20.0</td>\n",
              "      <td>0.0</td>\n",
              "      <td>NCIT:C64783</td>\n",
              "      <td>Gram per Deciliter</td>\n",
              "      <td>NCIT:C64783</td>\n",
              "      <td>Gram per Deciliter</td>\n",
              "      <td>11.20</td>\n",
              "      <td>NCIT:C27232</td>\n",
              "      <td>Blood Test Result</td>\n",
              "    </tr>\n",
              "    <tr>\n",
              "      <th>2</th>\n",
              "      <td>1900-01-01</td>\n",
              "      <td>hematokrit /// Field Label=Hematokrit /// Fiel...</td>\n",
              "      <td>NCIT:C64796</td>\n",
              "      <td>Hematocrit Measurement</td>\n",
              "      <td>100.0</td>\n",
              "      <td>0.0</td>\n",
              "      <td>NCIT:C25613</td>\n",
              "      <td>Percentage</td>\n",
              "      <td>NCIT:C25613</td>\n",
              "      <td>Percentage</td>\n",
              "      <td>34.00</td>\n",
              "      <td>NCIT:C27232</td>\n",
              "      <td>Blood Test Result</td>\n",
              "    </tr>\n",
              "    <tr>\n",
              "      <th>3</th>\n",
              "      <td>1900-01-01</td>\n",
              "      <td>thrombocytes /// Field Label=Thrombocytes /// ...</td>\n",
              "      <td>NCIT:C51951</td>\n",
              "      <td>Platelet Count</td>\n",
              "      <td>2000.0</td>\n",
              "      <td>0.0</td>\n",
              "      <td>NCIT:C67242</td>\n",
              "      <td>Cells per Microliter</td>\n",
              "      <td>NCIT:C67242</td>\n",
              "      <td>Cells per Microliter</td>\n",
              "      <td>442.00</td>\n",
              "      <td>NCIT:C27232</td>\n",
              "      <td>Blood Test Result</td>\n",
              "    </tr>\n",
              "    <tr>\n",
              "      <th>4</th>\n",
              "      <td>1900-01-01</td>\n",
              "      <td>creatinine /// Field Label=Creatinine /// Fiel...</td>\n",
              "      <td>NCIT:C64547</td>\n",
              "      <td>Creatinine Measurement</td>\n",
              "      <td>10000.0</td>\n",
              "      <td>0.0</td>\n",
              "      <td>NCIT:C48508</td>\n",
              "      <td>Micromole per Liter</td>\n",
              "      <td>NCIT:C48508</td>\n",
              "      <td>Micromole per Liter</td>\n",
              "      <td>76.00</td>\n",
              "      <td>NCIT:C27232</td>\n",
              "      <td>Blood Test Result</td>\n",
              "    </tr>\n",
              "    <tr>\n",
              "      <th>5</th>\n",
              "      <td>1900-01-01</td>\n",
              "      <td>gfr /// Field Label=GFR CKD-Epi /// Field Note...</td>\n",
              "      <td>NCIT:C90505</td>\n",
              "      <td>Glomerular Filtration Rate</td>\n",
              "      <td>200.0</td>\n",
              "      <td>0.0</td>\n",
              "      <td>NCIT:C98734</td>\n",
              "      <td>Glomerular Filtration Rate Adjusted for BSA</td>\n",
              "      <td>NCIT:C98734</td>\n",
              "      <td>Glomerular Filtration Rate Adjusted for BSA</td>\n",
              "      <td>123.00</td>\n",
              "      <td>NCIT:C27232</td>\n",
              "      <td>Blood Test Result</td>\n",
              "    </tr>\n",
              "    <tr>\n",
              "      <th>6</th>\n",
              "      <td>1900-01-01</td>\n",
              "      <td>bilirubin /// Field Label=Bilirubin /// Field ...</td>\n",
              "      <td>NCIT:C38037</td>\n",
              "      <td>Total Bilirubin Measurement</td>\n",
              "      <td>10000.0</td>\n",
              "      <td>0.0</td>\n",
              "      <td>NCIT:C48508</td>\n",
              "      <td>Micromole per Liter</td>\n",
              "      <td>NCIT:C48508</td>\n",
              "      <td>Micromole per Liter</td>\n",
              "      <td>3.50</td>\n",
              "      <td>NCIT:C27232</td>\n",
              "      <td>Blood Test Result</td>\n",
              "    </tr>\n",
              "    <tr>\n",
              "      <th>7</th>\n",
              "      <td>1900-01-01</td>\n",
              "      <td>gpt /// Field Label=GPT /// Field Note=xx.x U/...</td>\n",
              "      <td>NCIT:C55098</td>\n",
              "      <td>Serum Glutamic Pyruvic Transaminase, CTCAE</td>\n",
              "      <td>10000.0</td>\n",
              "      <td>0.0</td>\n",
              "      <td>NCIT:C67376</td>\n",
              "      <td>International Unit per Liter</td>\n",
              "      <td>NCIT:C67376</td>\n",
              "      <td>International Unit per Liter</td>\n",
              "      <td>18.00</td>\n",
              "      <td>NCIT:C27232</td>\n",
              "      <td>Blood Test Result</td>\n",
              "    </tr>\n",
              "    <tr>\n",
              "      <th>8</th>\n",
              "      <td>1900-01-01</td>\n",
              "      <td>ggt /// Field Label=gammaGT /// Field Note=xx....</td>\n",
              "      <td>NCIT:C61025</td>\n",
              "      <td>Serum Gamma Glutamyl Transpeptidase Measurement</td>\n",
              "      <td>10000.0</td>\n",
              "      <td>0.0</td>\n",
              "      <td>NCIT:C67376</td>\n",
              "      <td>International Unit per Liter</td>\n",
              "      <td>NCIT:C67376</td>\n",
              "      <td>International Unit per Liter</td>\n",
              "      <td>19.00</td>\n",
              "      <td>NCIT:C27232</td>\n",
              "      <td>Blood Test Result</td>\n",
              "    </tr>\n",
              "    <tr>\n",
              "      <th>9</th>\n",
              "      <td>1900-01-01</td>\n",
              "      <td>lipase /// Field Label=Lipase /// Field Note=x...</td>\n",
              "      <td>NCIT:C117748</td>\n",
              "      <td>Lipase Measurement</td>\n",
              "      <td>10000.0</td>\n",
              "      <td>0.0</td>\n",
              "      <td>NCIT:C67376</td>\n",
              "      <td>International Unit per Liter</td>\n",
              "      <td>NCIT:C67376</td>\n",
              "      <td>International Unit per Liter</td>\n",
              "      <td>46.00</td>\n",
              "      <td>NCIT:C27232</td>\n",
              "      <td>Blood Test Result</td>\n",
              "    </tr>\n",
              "  </tbody>\n",
              "</table>\n",
              "</div>\n",
              "    <div class=\"colab-df-buttons\">\n",
              "\n",
              "  <div class=\"colab-df-container\">\n",
              "    <button class=\"colab-df-convert\" onclick=\"convertToInteractive('df-59b6b78e-a67a-4366-81df-4b2355424763')\"\n",
              "            title=\"Convert this dataframe to an interactive table.\"\n",
              "            style=\"display:none;\">\n",
              "\n",
              "  <svg xmlns=\"http://www.w3.org/2000/svg\" height=\"24px\" viewBox=\"0 -960 960 960\">\n",
              "    <path d=\"M120-120v-720h720v720H120Zm60-500h600v-160H180v160Zm220 220h160v-160H400v160Zm0 220h160v-160H400v160ZM180-400h160v-160H180v160Zm440 0h160v-160H620v160ZM180-180h160v-160H180v160Zm440 0h160v-160H620v160Z\"/>\n",
              "  </svg>\n",
              "    </button>\n",
              "\n",
              "  <style>\n",
              "    .colab-df-container {\n",
              "      display:flex;\n",
              "      gap: 12px;\n",
              "    }\n",
              "\n",
              "    .colab-df-convert {\n",
              "      background-color: #E8F0FE;\n",
              "      border: none;\n",
              "      border-radius: 50%;\n",
              "      cursor: pointer;\n",
              "      display: none;\n",
              "      fill: #1967D2;\n",
              "      height: 32px;\n",
              "      padding: 0 0 0 0;\n",
              "      width: 32px;\n",
              "    }\n",
              "\n",
              "    .colab-df-convert:hover {\n",
              "      background-color: #E2EBFA;\n",
              "      box-shadow: 0px 1px 2px rgba(60, 64, 67, 0.3), 0px 1px 3px 1px rgba(60, 64, 67, 0.15);\n",
              "      fill: #174EA6;\n",
              "    }\n",
              "\n",
              "    .colab-df-buttons div {\n",
              "      margin-bottom: 4px;\n",
              "    }\n",
              "\n",
              "    [theme=dark] .colab-df-convert {\n",
              "      background-color: #3B4455;\n",
              "      fill: #D2E3FC;\n",
              "    }\n",
              "\n",
              "    [theme=dark] .colab-df-convert:hover {\n",
              "      background-color: #434B5C;\n",
              "      box-shadow: 0px 1px 3px 1px rgba(0, 0, 0, 0.15);\n",
              "      filter: drop-shadow(0px 1px 2px rgba(0, 0, 0, 0.3));\n",
              "      fill: #FFFFFF;\n",
              "    }\n",
              "  </style>\n",
              "\n",
              "    <script>\n",
              "      const buttonEl =\n",
              "        document.querySelector('#df-59b6b78e-a67a-4366-81df-4b2355424763 button.colab-df-convert');\n",
              "      buttonEl.style.display =\n",
              "        google.colab.kernel.accessAllowed ? 'block' : 'none';\n",
              "\n",
              "      async function convertToInteractive(key) {\n",
              "        const element = document.querySelector('#df-59b6b78e-a67a-4366-81df-4b2355424763');\n",
              "        const dataTable =\n",
              "          await google.colab.kernel.invokeFunction('convertToInteractive',\n",
              "                                                    [key], {});\n",
              "        if (!dataTable) return;\n",
              "\n",
              "        const docLinkHtml = 'Like what you see? Visit the ' +\n",
              "          '<a target=\"_blank\" href=https://colab.research.google.com/notebooks/data_table.ipynb>data table notebook</a>'\n",
              "          + ' to learn more about interactive tables.';\n",
              "        element.innerHTML = '';\n",
              "        dataTable['output_type'] = 'display_data';\n",
              "        await google.colab.output.renderOutput(dataTable, element);\n",
              "        const docLink = document.createElement('div');\n",
              "        docLink.innerHTML = docLinkHtml;\n",
              "        element.appendChild(docLink);\n",
              "      }\n",
              "    </script>\n",
              "  </div>\n",
              "\n",
              "\n",
              "<div id=\"df-d4733db4-3f76-4ac7-8ffc-d6a42214221b\">\n",
              "  <button class=\"colab-df-quickchart\" onclick=\"quickchart('df-d4733db4-3f76-4ac7-8ffc-d6a42214221b')\"\n",
              "            title=\"Suggest charts.\"\n",
              "            style=\"display:none;\">\n",
              "\n",
              "<svg xmlns=\"http://www.w3.org/2000/svg\" height=\"24px\"viewBox=\"0 0 24 24\"\n",
              "     width=\"24px\">\n",
              "    <g>\n",
              "        <path d=\"M19 3H5c-1.1 0-2 .9-2 2v14c0 1.1.9 2 2 2h14c1.1 0 2-.9 2-2V5c0-1.1-.9-2-2-2zM9 17H7v-7h2v7zm4 0h-2V7h2v10zm4 0h-2v-4h2v4z\"/>\n",
              "    </g>\n",
              "</svg>\n",
              "  </button>\n",
              "\n",
              "<style>\n",
              "  .colab-df-quickchart {\n",
              "    background-color: #E8F0FE;\n",
              "    border: none;\n",
              "    border-radius: 50%;\n",
              "    cursor: pointer;\n",
              "    display: none;\n",
              "    fill: #1967D2;\n",
              "    height: 32px;\n",
              "    padding: 0 0 0 0;\n",
              "    width: 32px;\n",
              "  }\n",
              "\n",
              "  .colab-df-quickchart:hover {\n",
              "    background-color: #E2EBFA;\n",
              "    box-shadow: 0px 1px 2px rgba(60, 64, 67, 0.3), 0px 1px 3px 1px rgba(60, 64, 67, 0.15);\n",
              "    fill: #174EA6;\n",
              "  }\n",
              "\n",
              "  [theme=dark] .colab-df-quickchart {\n",
              "    background-color: #3B4455;\n",
              "    fill: #D2E3FC;\n",
              "  }\n",
              "\n",
              "  [theme=dark] .colab-df-quickchart:hover {\n",
              "    background-color: #434B5C;\n",
              "    box-shadow: 0px 1px 3px 1px rgba(0, 0, 0, 0.15);\n",
              "    filter: drop-shadow(0px 1px 2px rgba(0, 0, 0, 0.3));\n",
              "    fill: #FFFFFF;\n",
              "  }\n",
              "</style>\n",
              "\n",
              "  <script>\n",
              "    async function quickchart(key) {\n",
              "      const charts = await google.colab.kernel.invokeFunction(\n",
              "          'suggestCharts', [key], {});\n",
              "    }\n",
              "    (() => {\n",
              "      let quickchartButtonEl =\n",
              "        document.querySelector('#df-d4733db4-3f76-4ac7-8ffc-d6a42214221b button');\n",
              "      quickchartButtonEl.style.display =\n",
              "        google.colab.kernel.accessAllowed ? 'block' : 'none';\n",
              "    })();\n",
              "  </script>\n",
              "</div>\n",
              "    </div>\n",
              "  </div>\n"
            ],
            "application/vnd.google.colaboratory.module+javascript": "\n      import \"https://ssl.gstatic.com/colaboratory/data_table/881c4a0d49046431/data_table.js\";\n\n      const table = window.createDataTable({\n        data: [[{\n            'v': 0,\n            'f': \"0\",\n        },\n\"1900-01-01\",\n\"leucocytes /// Field Label=Leucocytes /// Field Note=xx.xx /10^-9 l /// Field Type=text\",\n\"NCIT:C51948\",\n\"Leukocyte Count\",\n{\n            'v': 200.0,\n            'f': \"200.0\",\n        },\n{\n            'v': 0.0,\n            'f': \"0.0\",\n        },\n\"NCIT:C67242\",\n\"Cells per Microliter\",\n\"NCIT:C67242\",\n\"Cells per Microliter\",\n{\n            'v': 8.91,\n            'f': \"8.91\",\n        },\n\"NCIT:C27232\",\n\"Blood Test Result\"],\n [{\n            'v': 1,\n            'f': \"1\",\n        },\n\"1900-01-01\",\n\"hemoglobin /// Field Label=Hemoglobin /// Field Note=xx.x g/dl /// Field Type=text\",\n\"NCIT:C64848\",\n\"Hemoglobin Measurement\",\n{\n            'v': 20.0,\n            'f': \"20.0\",\n        },\n{\n            'v': 0.0,\n            'f': \"0.0\",\n        },\n\"NCIT:C64783\",\n\"Gram per Deciliter\",\n\"NCIT:C64783\",\n\"Gram per Deciliter\",\n{\n            'v': 11.2,\n            'f': \"11.2\",\n        },\n\"NCIT:C27232\",\n\"Blood Test Result\"],\n [{\n            'v': 2,\n            'f': \"2\",\n        },\n\"1900-01-01\",\n\"hematokrit /// Field Label=Hematokrit /// Field Note=xx.x % /// Field Type=text\",\n\"NCIT:C64796\",\n\"Hematocrit Measurement\",\n{\n            'v': 100.0,\n            'f': \"100.0\",\n        },\n{\n            'v': 0.0,\n            'f': \"0.0\",\n        },\n\"NCIT:C25613\",\n\"Percentage\",\n\"NCIT:C25613\",\n\"Percentage\",\n{\n            'v': 34.0,\n            'f': \"34.0\",\n        },\n\"NCIT:C27232\",\n\"Blood Test Result\"],\n [{\n            'v': 3,\n            'f': \"3\",\n        },\n\"1900-01-01\",\n\"thrombocytes /// Field Label=Thrombocytes /// Field Note=xxxx /10^-9 l /// Field Type=text\",\n\"NCIT:C51951\",\n\"Platelet Count\",\n{\n            'v': 2000.0,\n            'f': \"2000.0\",\n        },\n{\n            'v': 0.0,\n            'f': \"0.0\",\n        },\n\"NCIT:C67242\",\n\"Cells per Microliter\",\n\"NCIT:C67242\",\n\"Cells per Microliter\",\n{\n            'v': 442.0,\n            'f': \"442.0\",\n        },\n\"NCIT:C27232\",\n\"Blood Test Result\"],\n [{\n            'v': 4,\n            'f': \"4\",\n        },\n\"1900-01-01\",\n\"creatinine /// Field Label=Creatinine /// Field Note=xxx \\u00c2\\u00b5mol/l /// Field Type=text\",\n\"NCIT:C64547\",\n\"Creatinine Measurement\",\n{\n            'v': 10000.0,\n            'f': \"10000.0\",\n        },\n{\n            'v': 0.0,\n            'f': \"0.0\",\n        },\n\"NCIT:C48508\",\n\"Micromole per Liter\",\n\"NCIT:C48508\",\n\"Micromole per Liter\",\n{\n            'v': 76.0,\n            'f': \"76.0\",\n        },\n\"NCIT:C27232\",\n\"Blood Test Result\"],\n [{\n            'v': 5,\n            'f': \"5\",\n        },\n\"1900-01-01\",\n\"gfr /// Field Label=GFR CKD-Epi /// Field Note=xxx ml/min/1.73 /// Field Type=text\",\n\"NCIT:C90505\",\n\"Glomerular Filtration Rate\",\n{\n            'v': 200.0,\n            'f': \"200.0\",\n        },\n{\n            'v': 0.0,\n            'f': \"0.0\",\n        },\n\"NCIT:C98734\",\n\"Glomerular Filtration Rate Adjusted for BSA\",\n\"NCIT:C98734\",\n\"Glomerular Filtration Rate Adjusted for BSA\",\n{\n            'v': 123.0,\n            'f': \"123.0\",\n        },\n\"NCIT:C27232\",\n\"Blood Test Result\"],\n [{\n            'v': 6,\n            'f': \"6\",\n        },\n\"1900-01-01\",\n\"bilirubin /// Field Label=Bilirubin /// Field Note=xxx.x \\u00c2\\u00b5mol/l /// Field Type=text\",\n\"NCIT:C38037\",\n\"Total Bilirubin Measurement\",\n{\n            'v': 10000.0,\n            'f': \"10000.0\",\n        },\n{\n            'v': 0.0,\n            'f': \"0.0\",\n        },\n\"NCIT:C48508\",\n\"Micromole per Liter\",\n\"NCIT:C48508\",\n\"Micromole per Liter\",\n{\n            'v': 3.5,\n            'f': \"3.5\",\n        },\n\"NCIT:C27232\",\n\"Blood Test Result\"],\n [{\n            'v': 7,\n            'f': \"7\",\n        },\n\"1900-01-01\",\n\"gpt /// Field Label=GPT /// Field Note=xx.x U/l /// Field Type=text\",\n\"NCIT:C55098\",\n\"Serum Glutamic Pyruvic Transaminase, CTCAE\",\n{\n            'v': 10000.0,\n            'f': \"10000.0\",\n        },\n{\n            'v': 0.0,\n            'f': \"0.0\",\n        },\n\"NCIT:C67376\",\n\"International Unit per Liter\",\n\"NCIT:C67376\",\n\"International Unit per Liter\",\n{\n            'v': 18.0,\n            'f': \"18.0\",\n        },\n\"NCIT:C27232\",\n\"Blood Test Result\"],\n [{\n            'v': 8,\n            'f': \"8\",\n        },\n\"1900-01-01\",\n\"ggt /// Field Label=gammaGT /// Field Note=xx.x U/l /// Field Type=text\",\n\"NCIT:C61025\",\n\"Serum Gamma Glutamyl Transpeptidase Measurement\",\n{\n            'v': 10000.0,\n            'f': \"10000.0\",\n        },\n{\n            'v': 0.0,\n            'f': \"0.0\",\n        },\n\"NCIT:C67376\",\n\"International Unit per Liter\",\n\"NCIT:C67376\",\n\"International Unit per Liter\",\n{\n            'v': 19.0,\n            'f': \"19.0\",\n        },\n\"NCIT:C27232\",\n\"Blood Test Result\"],\n [{\n            'v': 9,\n            'f': \"9\",\n        },\n\"1900-01-01\",\n\"lipase /// Field Label=Lipase /// Field Note=xx.x U/l /// Field Type=text\",\n\"NCIT:C117748\",\n\"Lipase Measurement\",\n{\n            'v': 10000.0,\n            'f': \"10000.0\",\n        },\n{\n            'v': 0.0,\n            'f': \"0.0\",\n        },\n\"NCIT:C67376\",\n\"International Unit per Liter\",\n\"NCIT:C67376\",\n\"International Unit per Liter\",\n{\n            'v': 46.0,\n            'f': \"46.0\",\n        },\n\"NCIT:C27232\",\n\"Blood Test Result\"]],\n        columns: [[\"number\", \"index\"], [\"string\", \"date\"], [\"string\", \"notes\"], [\"string\", \"assayCode.id\"], [\"string\", \"assayCode.label\"], [\"number\", \"measurementValue.quantity.referenceRange.high\"], [\"number\", \"measurementValue.quantity.referenceRange.low\"], [\"string\", \"measurementValue.quantity.referenceRange.unit.id\"], [\"string\", \"measurementValue.quantity.referenceRange.unit.label\"], [\"string\", \"measurementValue.quantity.unit.id\"], [\"string\", \"measurementValue.quantity.unit.label\"], [\"number\", \"measurementValue.quantity.value\"], [\"string\", \"procedure.procedureCode.id\"], [\"string\", \"procedure.procedureCode.label\"]],\n        columnOptions: [{\"width\": \"1px\", \"className\": \"index_column\"}],\n        rowsPerPage: 25,\n        helpUrl: \"https://colab.research.google.com/notebooks/data_table.ipynb\",\n        suppressOutputScrolling: true,\n        minimumWidth: undefined,\n      });\n\n      function appendQuickchartButton(parentElement) {\n        let quickchartButtonContainerElement = document.createElement('div');\n        quickchartButtonContainerElement.innerHTML = `\n<div id=\"df-c1c40c86-d116-481c-8fd6-c97c7a265442\">\n  <button class=\"colab-df-quickchart\" onclick=\"quickchart('df-c1c40c86-d116-481c-8fd6-c97c7a265442')\"\n            title=\"Suggest charts.\"\n            style=\"display:none;\">\n    \n<svg xmlns=\"http://www.w3.org/2000/svg\" height=\"24px\"viewBox=\"0 0 24 24\"\n     width=\"24px\">\n    <g>\n        <path d=\"M19 3H5c-1.1 0-2 .9-2 2v14c0 1.1.9 2 2 2h14c1.1 0 2-.9 2-2V5c0-1.1-.9-2-2-2zM9 17H7v-7h2v7zm4 0h-2V7h2v10zm4 0h-2v-4h2v4z\"/>\n    </g>\n</svg>\n  </button>\n  \n<style>\n  .colab-df-quickchart {\n    background-color: #E8F0FE;\n    border: none;\n    border-radius: 50%;\n    cursor: pointer;\n    display: none;\n    fill: #1967D2;\n    height: 32px;\n    padding: 0 0 0 0;\n    width: 32px;\n  }\n\n  .colab-df-quickchart:hover {\n    background-color: #E2EBFA;\n    box-shadow: 0px 1px 2px rgba(60, 64, 67, 0.3), 0px 1px 3px 1px rgba(60, 64, 67, 0.15);\n    fill: #174EA6;\n  }\n\n  [theme=dark] .colab-df-quickchart {\n    background-color: #3B4455;\n    fill: #D2E3FC;\n  }\n\n  [theme=dark] .colab-df-quickchart:hover {\n    background-color: #434B5C;\n    box-shadow: 0px 1px 3px 1px rgba(0, 0, 0, 0.15);\n    filter: drop-shadow(0px 1px 2px rgba(0, 0, 0, 0.3));\n    fill: #FFFFFF;\n  }\n</style>\n\n  <script>\n    async function quickchart(key) {\n      const charts = await google.colab.kernel.invokeFunction(\n          'suggestCharts', [key], {});\n    }\n    (() => {\n      let quickchartButtonEl =\n        document.querySelector('#df-c1c40c86-d116-481c-8fd6-c97c7a265442 button');\n      quickchartButtonEl.style.display =\n        google.colab.kernel.accessAllowed ? 'block' : 'none';\n    })();\n  </script>\n</div>`;\n        parentElement.appendChild(quickchartButtonContainerElement);\n      }\n\n      appendQuickchartButton(table);\n    "
          },
          "metadata": {},
          "execution_count": 35
        }
      ],
      "source": [
        "#@title  { run: \"auto\" }\n",
        "#@title  { run: \"auto\", vertical-output: true }\n",
        "import os\n",
        "import pandas as pd\n",
        "from google.colab import data_table\n",
        "data_table.enable_dataframe_formatter()\n",
        "\n",
        "# Extarnal variables\n",
        "search = 'exact' #@param [\"exact\", \"mixed\"] {allow-input: true}\n",
        "text_similarity_method = 'cosine' #@param [\"cosine\", \"dice\"] {allow-input: true}\n",
        "min_text_similarity_score = 0 #@param {type:\"slider\", min:0, max:1, step:0.1}\n",
        "\n",
        "# Creating a dcitionary for args\n",
        "arg = {\n",
        "    '-iredcap': 't/redcap2bff/in/Data_table_3TR_IBD_dummydata.csv',\n",
        "    '-redcap-dictionary': 't/redcap2bff/in/3TRKielTemplateExport01072022_DataDictionary_2022-07-03.csv',\n",
        "    '--mapping-file': 't/redcap2bff/in/redcap_3tr_mapping.yaml',\n",
        "    '--search': search,\n",
        "    '--text-similarity': text_similarity_method,\n",
        "    '--min-text-similarity-score': min_text_similarity_score\n",
        "}\n",
        "\n",
        "# Create CLI string\n",
        "string = ' '.join([f'{key} {value}' for key, value in arg.items()])\n",
        "cmd = 'bin/convert-pheno -O' + string\n",
        "\n",
        "# Run Convert-Pheno\n",
        "os.system(cmd)\n",
        "\n",
        "# Import json\n",
        "df = pd.read_json('/content/redcap_individuals.json')\n",
        "\n",
        "# Normalize nested data in <measures>\n",
        "from google.colab.data_table import DataTable\n",
        "DataTable.max_columns = 30\n",
        "df = df.explode('measures')\n",
        "df_norm = pd.json_normalize(df['measures'])\n",
        "df_norm.head(10)"
      ]
    },
    {
      "cell_type": "markdown",
      "metadata": {
        "id": "4bqf8CLyr8B9"
      },
      "source": [
        "# Uploading files"
      ]
    },
    {
      "cell_type": "markdown",
      "metadata": {
        "id": "TBJNy1zMsMc_"
      },
      "source": [
        "It's possible to run jobs using your own files. A few notes:\n",
        "\n",
        "* The files will be stored in **your instance** of this document. We (developers) don't have access to them.\n",
        "\n",
        "* Uploaded files will get **deleted** when this runtime is recycled.\n",
        "\n",
        "* `Convert-Pheno` does not send remote information to our servers and does not store user's information.\n",
        "\n",
        "* The security is dictated by your Google account / drive.\n",
        "\n",
        "The files can be uploaded by clicking in the upload button on the left tab of this screen. Files will be uploaded to `/content`.\n",
        "\n",
        "Once the file is uploaded, you can execute `convert-pheno` command-line as we did above."
      ]
    },
    {
      "cell_type": "markdown",
      "metadata": {
        "id": "z2ltzY-FvdrT"
      },
      "source": [
        "Great! I hope this quick tour was useful.\n",
        "\n",
        "Now it's time to try it out yourself!\n",
        "\n",
        "Bye!!\n",
        "\n",
        "Manu"
      ]
    }
  ],
  "metadata": {
    "colab": {
      "collapsed_sections": [
        "6Rvyqyimvs4w",
        "D0x1O53dwEbA",
        "8m1AJXz6wN7u",
        "4bqf8CLyr8B9"
      ],
      "provenance": []
    },
    "kernelspec": {
      "display_name": "Python 3",
      "name": "python3"
    },
    "language_info": {
      "name": "python"
    }
  },
  "nbformat": 4,
  "nbformat_minor": 0
}